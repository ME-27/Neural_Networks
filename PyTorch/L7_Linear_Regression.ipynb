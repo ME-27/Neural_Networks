{
 "cells": [
  {
   "cell_type": "markdown",
   "id": "fcb8d5e9",
   "metadata": {},
   "source": [
    "# PyTorch Tutorial 07 - Linear Regression"
   ]
  },
  {
   "cell_type": "markdown",
   "id": "82d18324",
   "metadata": {},
   "source": [
    "https://www.youtube.com/watch?v=YAJ5XBwlN4o&list=PLqnslRFeH2UrcDBWF5mfPGpqQDSta6VK4&index=7"
   ]
  },
  {
   "cell_type": "code",
   "execution_count": null,
   "id": "670726c5",
   "metadata": {},
   "outputs": [],
   "source": []
  },
  {
   "cell_type": "code",
   "execution_count": 1,
   "id": "2680f474",
   "metadata": {},
   "outputs": [],
   "source": [
    "import torch\n",
    "import torch.nn as nn\n",
    "import numpy as np\n",
    "from sklearn import datasets\n",
    "import matplotlib.pyplot as plt"
   ]
  },
  {
   "cell_type": "markdown",
   "id": "50e7a2b0",
   "metadata": {},
   "source": [
    "## preparing data"
   ]
  },
  {
   "cell_type": "code",
   "execution_count": 2,
   "id": "dc91afee",
   "metadata": {},
   "outputs": [
    {
     "data": {
      "text/plain": [
       "(array([[-0.04684576],\n",
       "        [ 1.03396388],\n",
       "        [-1.64089879],\n",
       "        [-0.33783233],\n",
       "        [-0.11474626]]),\n",
       " array([ -1.1144095 ,   7.32405666, -16.41223989, -23.00749839,\n",
       "        -22.54518225]))"
      ]
     },
     "execution_count": 2,
     "metadata": {},
     "output_type": "execute_result"
    }
   ],
   "source": [
    "# dataset creation\n",
    "X_numpy, y_numpy = datasets.make_regression(n_samples=100, n_features=1, noise=20, random_state=2022)\n",
    "\n",
    "X_numpy[:5], y_numpy[:5]"
   ]
  },
  {
   "cell_type": "code",
   "execution_count": 3,
   "id": "6e2ace46",
   "metadata": {},
   "outputs": [
    {
     "data": {
      "text/plain": [
       "(tensor([[-0.0468],\n",
       "         [ 1.0340],\n",
       "         [-1.6409],\n",
       "         [-0.3378],\n",
       "         [-0.1147]]),\n",
       " tensor([ -1.1144,   7.3241, -16.4122, -23.0075, -22.5452]))"
      ]
     },
     "execution_count": 3,
     "metadata": {},
     "output_type": "execute_result"
    }
   ],
   "source": [
    "X = torch.from_numpy(X_numpy.astype(np.float32))\n",
    "y = torch.from_numpy(y_numpy.astype(np.float32))\n",
    "\n",
    "X[:5], y[:5]"
   ]
  },
  {
   "cell_type": "code",
   "execution_count": 4,
   "id": "613f8add",
   "metadata": {},
   "outputs": [
    {
     "data": {
      "text/plain": [
       "torch.Size([100])"
      ]
     },
     "execution_count": 4,
     "metadata": {},
     "output_type": "execute_result"
    }
   ],
   "source": [
    "y.shape"
   ]
  },
  {
   "cell_type": "code",
   "execution_count": 5,
   "id": "bb4d9543",
   "metadata": {},
   "outputs": [
    {
     "data": {
      "text/plain": [
       "(torch.Size([100, 1]),\n",
       " tensor([[ -1.1144],\n",
       "         [  7.3241],\n",
       "         [-16.4122],\n",
       "         [-23.0075],\n",
       "         [-22.5452]]))"
      ]
     },
     "execution_count": 5,
     "metadata": {},
     "output_type": "execute_result"
    }
   ],
   "source": [
    "y = y.view(y.shape[0], 1)\n",
    "\n",
    "y.shape, y[:5]"
   ]
  },
  {
   "cell_type": "code",
   "execution_count": 6,
   "id": "926d783c",
   "metadata": {},
   "outputs": [
    {
     "data": {
      "text/plain": [
       "torch.Size([100, 1])"
      ]
     },
     "execution_count": 6,
     "metadata": {},
     "output_type": "execute_result"
    }
   ],
   "source": [
    "X.shape"
   ]
  },
  {
   "cell_type": "code",
   "execution_count": 7,
   "id": "1a7f3d9b",
   "metadata": {},
   "outputs": [
    {
     "data": {
      "text/plain": [
       "(100, 1)"
      ]
     },
     "execution_count": 7,
     "metadata": {},
     "output_type": "execute_result"
    }
   ],
   "source": [
    "n_samples, n_features = X.shape\n",
    "\n",
    "n_samples, n_features"
   ]
  },
  {
   "cell_type": "markdown",
   "id": "603828fd",
   "metadata": {},
   "source": [
    "## model"
   ]
  },
  {
   "cell_type": "code",
   "execution_count": 8,
   "id": "19719fd9",
   "metadata": {},
   "outputs": [],
   "source": [
    "input_size = n_features\n",
    "output_size = 1"
   ]
  },
  {
   "cell_type": "code",
   "execution_count": 9,
   "id": "51b3df6d",
   "metadata": {},
   "outputs": [],
   "source": [
    "model = nn.Linear(input_size, output_size)"
   ]
  },
  {
   "cell_type": "markdown",
   "id": "24e49377",
   "metadata": {},
   "source": [
    "## loss and optimizer"
   ]
  },
  {
   "cell_type": "code",
   "execution_count": 10,
   "id": "e2a7d90e",
   "metadata": {},
   "outputs": [],
   "source": [
    "learning_rate = 0.01\n",
    "criterion = nn.MSELoss()  # loss function\n",
    "optimizer = torch.optim.SGD(model.parameters(), lr=learning_rate)  # optimizer for loss function"
   ]
  },
  {
   "cell_type": "markdown",
   "id": "a5772461",
   "metadata": {},
   "source": [
    "## training loop"
   ]
  },
  {
   "cell_type": "code",
   "execution_count": 11,
   "id": "0a048849",
   "metadata": {},
   "outputs": [
    {
     "name": "stdout",
     "output_type": "stream",
     "text": [
      "epoch 10, loss = 808.2592\n",
      "epoch 20, loss = 672.5703\n",
      "epoch 30, loss = 578.7123\n",
      "epoch 40, loss = 513.7877\n",
      "epoch 50, loss = 468.8760\n",
      "epoch 60, loss = 437.8075\n",
      "epoch 70, loss = 416.3146\n",
      "epoch 80, loss = 401.4457\n",
      "epoch 90, loss = 391.1591\n",
      "epoch 100, loss = 384.0424\n"
     ]
    }
   ],
   "source": [
    "num_epochs = 100\n",
    "for epoch in range(num_epochs):\n",
    "    # forward pass and loss\n",
    "    y_predicted = model(X)\n",
    "    loss = criterion(y_predicted, y)\n",
    "    \n",
    "    # backward pass\n",
    "    loss.backward()\n",
    "    \n",
    "    # update\n",
    "    optimizer.step()\n",
    "    optimizer.zero_grad()\n",
    "    \n",
    "    if (epoch+1) % 10 == 0: \n",
    "        print(f'epoch {epoch+1}, loss = {loss.item():.4f}')"
   ]
  },
  {
   "cell_type": "markdown",
   "id": "07ac16ff",
   "metadata": {},
   "source": [
    "## plot"
   ]
  },
  {
   "cell_type": "code",
   "execution_count": 12,
   "id": "0da6668a",
   "metadata": {},
   "outputs": [
    {
     "data": {
      "image/png": "[encoded data removed]",
      "text/plain": [
       "<Figure size 640x480 with 1 Axes>"
      ]
     },
     "metadata": {},
     "output_type": "display_data"
    }
   ],
   "source": [
    "predicted = model(X).detach().numpy()\n",
    "plt.plot(X_numpy, y_numpy, 'ro')  # 'ro' - red dots\n",
    "plt.plot(X_numpy, predicted, 'b')  # 'b' - blue (line)\n",
    "plt.show()"
   ]
  },
  {
   "cell_type": "code",
   "execution_count": null,
   "id": "002cc69f",
   "metadata": {},
   "outputs": [],
   "source": []
  },
  {
   "cell_type": "code",
   "execution_count": null,
   "id": "362bd495",
   "metadata": {},
   "outputs": [],
   "source": []
  },
  {
   "cell_type": "code",
   "execution_count": null,
   "id": "244d38d0",
   "metadata": {},
   "outputs": [],
   "source": []
  }
 ],
 "metadata": {
  "kernelspec": {
   "display_name": "Python 3 (ipykernel)",
   "language": "python",
   "name": "python3"
  },
  "language_info": {
   "codemirror_mode": {
    "name": "ipython",
    "version": 3
   },
   "file_extension": ".py",
   "mimetype": "text/x-python",
   "name": "python",
   "nbconvert_exporter": "python",
   "pygments_lexer": "ipython3",
   "version": "3.9.15"
  }
 },
 "nbformat": 4,
 "nbformat_minor": 5
}
