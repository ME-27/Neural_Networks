{
 "cells": [
  {
   "cell_type": "markdown",
   "id": "d65ae657",
   "metadata": {},
   "source": [
    "# PyTorch Tutorial 14 - Convolutional Neural Network (CNN)"
   ]
  },
  {
   "cell_type": "markdown",
   "id": "56fd1616",
   "metadata": {},
   "source": [
    "https://www.youtube.com/watch?v=pDdP0TFzsoQ&list=PLqnslRFeH2UrcDBWF5mfPGpqQDSta6VK4&index=14"
   ]
  },
  {
   "cell_type": "code",
   "execution_count": null,
   "id": "67754794",
   "metadata": {},
   "outputs": [],
   "source": []
  },
  {
   "cell_type": "code",
   "execution_count": 1,
   "id": "7de0e0bf",
   "metadata": {},
   "outputs": [],
   "source": [
    "import torch\n",
    "import torch.nn as nn\n",
    "import torch.nn.functional as F\n",
    "import torchvision\n",
    "import torchvision.transforms as transforms\n",
    "import matplotlib.pyplot as plt\n",
    "import numpy as np"
   ]
  },
  {
   "cell_type": "markdown",
   "id": "d8df5269",
   "metadata": {},
   "source": [
    "## device configuration"
   ]
  },
  {
   "cell_type": "code",
   "execution_count": 2,
   "id": "081b7b7a",
   "metadata": {},
   "outputs": [],
   "source": [
    "device = torch.device('cuda' if torch.cuda.is_available() else 'cpu')"
   ]
  },
  {
   "cell_type": "markdown",
   "id": "1ea133dd",
   "metadata": {},
   "source": [
    "## hyper parameters"
   ]
  },
  {
   "cell_type": "code",
   "execution_count": 3,
   "id": "e5d3cac9",
   "metadata": {},
   "outputs": [],
   "source": [
    "num_epochs = 10\n",
    "batch_size = 4\n",
    "learning_rate = 0.001"
   ]
  },
  {
   "cell_type": "markdown",
   "id": "c964ab16",
   "metadata": {},
   "source": [
    "#### dataset has PILImage images of range [0, 1]; we transform them to Tensors of normalized range [-1, 1]"
   ]
  },
  {
   "cell_type": "code",
   "execution_count": 4,
   "id": "6fb4e06d",
   "metadata": {},
   "outputs": [],
   "source": [
    "transform = transforms.Compose(\n",
    "    [transforms.ToTensor(), \n",
    "     transforms.Normalize((0.5, 0.5, 0.5), (0.5, 0.5, 0.5))]\n",
    ")"
   ]
  },
  {
   "cell_type": "markdown",
   "id": "79c0ba19",
   "metadata": {},
   "source": [
    "## downloading datasets"
   ]
  },
  {
   "cell_type": "code",
   "execution_count": 5,
   "id": "2ac5a279",
   "metadata": {},
   "outputs": [
    {
     "name": "stdout",
     "output_type": "stream",
     "text": [
      "Files already downloaded and verified\n",
      "Files already downloaded and verified\n"
     ]
    }
   ],
   "source": [
    "train_dataset = torchvision.datasets.CIFAR10(root='./data', train=True, download=True, transform=transform)\n",
    "test_dataset = torchvision.datasets.CIFAR10(root='./data', train=False, download=True, transform=transform)"
   ]
  },
  {
   "cell_type": "markdown",
   "id": "707d4747",
   "metadata": {},
   "source": [
    "## DataLoader"
   ]
  },
  {
   "cell_type": "code",
   "execution_count": 6,
   "id": "1ee701e5",
   "metadata": {},
   "outputs": [],
   "source": [
    "train_loader = torch.utils.data.DataLoader(train_dataset, batch_size=batch_size, shuffle=True)\n",
    "test_loader = torch.utils.data.DataLoader(test_dataset, batch_size=batch_size, shuffle=False)"
   ]
  },
  {
   "cell_type": "markdown",
   "id": "231eeb5d",
   "metadata": {},
   "source": [
    "## naming classes"
   ]
  },
  {
   "cell_type": "code",
   "execution_count": 7,
   "id": "e8163661",
   "metadata": {},
   "outputs": [],
   "source": [
    "classes = ('plane', 'car', 'bird', 'cat', 'deer', 'dog', 'frog', 'horse', 'ship', 'truck')"
   ]
  },
  {
   "cell_type": "markdown",
   "id": "f3e0c240",
   "metadata": {},
   "source": [
    "## implementing convolutional net"
   ]
  },
  {
   "cell_type": "code",
   "execution_count": 8,
   "id": "0c8db714",
   "metadata": {},
   "outputs": [],
   "source": [
    "class ConvNet(nn.Module):\n",
    "    def __init__(self):\n",
    "        super(ConvNet, self).__init__()\n",
    "        self.conv1 = nn.Conv2d(3, 6, 5)  # 3 - color channels, 6 - output size (is up to us), 5 - kernel size\n",
    "        self.pool = nn.MaxPool2d(2, 2)  # 2 - kernel size, 2 - stride\n",
    "        self.conv2 = nn.Conv2d(6, 16, 5)  # 6 - input size (=output in conv1), 16 - output size (is up to us), 5 - kernel size\n",
    "        self.fc1 = nn.Linear(16*5*5, 120)  # fc - fully connected layer, 16*5*5 - final size of an object \n",
    "                                           # (see L14_Convolutional_Neural_Network_(CNN)_size_evolution_demonstration)\n",
    "                                           # 120 - output size (is up to us)\n",
    "        self.fc2 = nn.Linear(120, 84)  # 120 = fc1 output size, 84 - output size (is up to us)\n",
    "        self.fc3 = nn.Linear(84, 10)  # 84 = fc2 output size, 10 - because we have 10 classes\n",
    "    \n",
    "    def forward(self, x):\n",
    "        x = self.pool(F.relu(self.conv1(x)))\n",
    "        x = self.pool(F.relu(self.conv2(x)))\n",
    "        x = x.view(-1, 16*5*5)\n",
    "        x = F.relu(self.fc1(x))\n",
    "        x = F.relu(self.fc2(x))\n",
    "        x = self.fc3(x)\n",
    "        return x"
   ]
  },
  {
   "cell_type": "code",
   "execution_count": 9,
   "id": "916f236a",
   "metadata": {},
   "outputs": [],
   "source": [
    "model = ConvNet().to(device)"
   ]
  },
  {
   "cell_type": "markdown",
   "id": "99a1493a",
   "metadata": {},
   "source": [
    "## setting loss and optimizer"
   ]
  },
  {
   "cell_type": "code",
   "execution_count": 10,
   "id": "64357f50",
   "metadata": {},
   "outputs": [],
   "source": [
    "criterion = nn.CrossEntropyLoss()\n",
    "optimizer = torch.optim.SGD(model.parameters(), lr=learning_rate)  # Stochastic Gradient Descent to optimize model parameters"
   ]
  },
  {
   "cell_type": "markdown",
   "id": "3375b4fa",
   "metadata": {},
   "source": [
    "## training loop"
   ]
  },
  {
   "cell_type": "code",
   "execution_count": 11,
   "id": "238df644",
   "metadata": {},
   "outputs": [
    {
     "name": "stdout",
     "output_type": "stream",
     "text": [
      "epoch 1/10, step 2000/12500, loss 2.3158\n",
      "epoch 1/10, step 4000/12500, loss 2.2919\n",
      "epoch 1/10, step 6000/12500, loss 2.2841\n",
      "epoch 1/10, step 8000/12500, loss 2.2981\n",
      "epoch 1/10, step 10000/12500, loss 2.3093\n",
      "epoch 1/10, step 12000/12500, loss 2.5573\n",
      "epoch 2/10, step 2000/12500, loss 1.7068\n",
      "epoch 2/10, step 4000/12500, loss 1.8754\n",
      "epoch 2/10, step 6000/12500, loss 1.9069\n",
      "epoch 2/10, step 8000/12500, loss 1.6251\n",
      "epoch 2/10, step 10000/12500, loss 1.6674\n",
      "epoch 2/10, step 12000/12500, loss 1.3569\n",
      "epoch 3/10, step 2000/12500, loss 1.2856\n",
      "epoch 3/10, step 4000/12500, loss 1.2551\n",
      "epoch 3/10, step 6000/12500, loss 2.1059\n",
      "epoch 3/10, step 8000/12500, loss 1.2323\n",
      "epoch 3/10, step 10000/12500, loss 1.8314\n",
      "epoch 3/10, step 12000/12500, loss 1.4957\n",
      "epoch 4/10, step 2000/12500, loss 1.6153\n",
      "epoch 4/10, step 4000/12500, loss 0.9922\n",
      "epoch 4/10, step 6000/12500, loss 1.8456\n",
      "epoch 4/10, step 8000/12500, loss 1.2534\n",
      "epoch 4/10, step 10000/12500, loss 1.6652\n",
      "epoch 4/10, step 12000/12500, loss 1.3113\n",
      "epoch 5/10, step 2000/12500, loss 1.7762\n",
      "epoch 5/10, step 4000/12500, loss 1.3491\n",
      "epoch 5/10, step 6000/12500, loss 1.7296\n",
      "epoch 5/10, step 8000/12500, loss 2.1596\n",
      "epoch 5/10, step 10000/12500, loss 1.0897\n",
      "epoch 5/10, step 12000/12500, loss 1.0461\n",
      "epoch 6/10, step 2000/12500, loss 2.0775\n",
      "epoch 6/10, step 4000/12500, loss 2.3022\n",
      "epoch 6/10, step 6000/12500, loss 1.8694\n",
      "epoch 6/10, step 8000/12500, loss 1.4531\n",
      "epoch 6/10, step 10000/12500, loss 1.4553\n",
      "epoch 6/10, step 12000/12500, loss 1.1630\n",
      "epoch 7/10, step 2000/12500, loss 2.4924\n",
      "epoch 7/10, step 4000/12500, loss 1.8122\n",
      "epoch 7/10, step 6000/12500, loss 1.1504\n",
      "epoch 7/10, step 8000/12500, loss 1.2568\n",
      "epoch 7/10, step 10000/12500, loss 0.8623\n",
      "epoch 7/10, step 12000/12500, loss 1.3588\n",
      "epoch 8/10, step 2000/12500, loss 0.8014\n",
      "epoch 8/10, step 4000/12500, loss 2.4398\n",
      "epoch 8/10, step 6000/12500, loss 0.8671\n",
      "epoch 8/10, step 8000/12500, loss 0.5820\n",
      "epoch 8/10, step 10000/12500, loss 1.6477\n",
      "epoch 8/10, step 12000/12500, loss 1.2041\n",
      "epoch 9/10, step 2000/12500, loss 1.5557\n",
      "epoch 9/10, step 4000/12500, loss 0.9403\n",
      "epoch 9/10, step 6000/12500, loss 0.7936\n",
      "epoch 9/10, step 8000/12500, loss 0.5795\n",
      "epoch 9/10, step 10000/12500, loss 0.5925\n",
      "epoch 9/10, step 12000/12500, loss 0.9497\n",
      "epoch 10/10, step 2000/12500, loss 1.0015\n",
      "epoch 10/10, step 4000/12500, loss 1.1527\n",
      "epoch 10/10, step 6000/12500, loss 0.5268\n",
      "epoch 10/10, step 8000/12500, loss 1.4608\n",
      "epoch 10/10, step 10000/12500, loss 1.0579\n",
      "epoch 10/10, step 12000/12500, loss 0.6586\n",
      "finished training\n"
     ]
    }
   ],
   "source": [
    "n_total_steps = len(train_loader)\n",
    "for epoch in range(num_epochs):\n",
    "    for i, (images, labels) in enumerate(train_loader):\n",
    "        # origin shape: 4, 3, 32, 32 --> 4, 3, 1024\n",
    "        # input layer: 3 input channels, 6 output channels, 5 kernel size\n",
    "        images = images.to(device)\n",
    "        labels = labels.to(device)\n",
    "        \n",
    "        # forward pass\n",
    "        outputs = model(images)\n",
    "        loss = criterion(outputs, labels)\n",
    "        \n",
    "        # backward pass\n",
    "        loss.backward()\n",
    "        \n",
    "        # optimization\n",
    "        optimizer.step()\n",
    "        optimizer.zero_grad()\n",
    "        \n",
    "        if (i+1) % 2000 == 0:\n",
    "            print(f'epoch {epoch+1}/{num_epochs}, step {i+1}/{n_total_steps}, loss {loss.item():.4f}')\n",
    "                  \n",
    "print('finished training')"
   ]
  },
  {
   "cell_type": "markdown",
   "id": "89a3568c",
   "metadata": {},
   "source": [
    "## model evaluation"
   ]
  },
  {
   "cell_type": "code",
   "execution_count": 12,
   "id": "e2bbdb4b",
   "metadata": {},
   "outputs": [
    {
     "name": "stdout",
     "output_type": "stream",
     "text": [
      "accuracy of the network: 58.48 %\n",
      "accuracy of plane: 69.9 %\n",
      "accuracy of car: 73.0 %\n",
      "accuracy of bird: 36.8 %\n",
      "accuracy of cat: 40.7 %\n",
      "accuracy of deer: 43.0 %\n",
      "accuracy of dog: 52.5 %\n",
      "accuracy of frog: 73.3 %\n",
      "accuracy of horse: 66.2 %\n",
      "accuracy of ship: 64.2 %\n",
      "accuracy of truck: 65.2 %\n"
     ]
    }
   ],
   "source": [
    "with torch.no_grad():\n",
    "    n_correct = 0\n",
    "    n_samples = 0\n",
    "    n_class_correct = [0 for _ in range(10)]\n",
    "    n_class_samples = [0 for _ in range(10)]\n",
    "    for images, labels in test_loader:\n",
    "        images = images.to(device)\n",
    "        labels = labels.to(device)\n",
    "        outputs = model(images)\n",
    "        # max returns (value, index)\n",
    "        _, predicted = torch.max(outputs, 1)\n",
    "        n_samples += labels.size(0)\n",
    "        n_correct += (predicted == labels).sum().item()\n",
    "        \n",
    "        for i in range(batch_size):\n",
    "            label = labels[i]\n",
    "            pred = predicted[i]\n",
    "            if (label == pred):\n",
    "                n_class_correct[label] += 1\n",
    "            n_class_samples[label] += 1\n",
    "            \n",
    "    acc = 100. * n_correct / n_samples\n",
    "    print(f'accuracy of the network: {acc} %')\n",
    "    \n",
    "    for i in range(10):\n",
    "        acc = 100. * n_class_correct[i] / n_class_samples[i]\n",
    "        print(f'accuracy of {classes[i]}: {acc} %')"
   ]
  },
  {
   "cell_type": "markdown",
   "id": "bbd9e329",
   "metadata": {},
   "source": [
    "the model was trained with 10 epochs"
   ]
  },
  {
   "cell_type": "markdown",
   "id": "5fb3569f",
   "metadata": {},
   "source": [
    "#### 4 epochs:"
   ]
  },
  {
   "cell_type": "markdown",
   "id": "495a2c97",
   "metadata": {},
   "source": [
    "    accuracy of the network: 45.69 %\n",
    "    accuracy of plane: 47.1 %\n",
    "    accuracy of car: 51.0 %\n",
    "    accuracy of bird: 20.9 %\n",
    "    accuracy of cat: 13.6 %\n",
    "    accuracy of deer: 36.5 %\n",
    "    accuracy of dog: 45.4 %\n",
    "    accuracy of frog: 67.1 %\n",
    "    accuracy of horse: 55.3 %\n",
    "    accuracy of ship: 56.9 %\n",
    "    accuracy of truck: 63.1 %"
   ]
  },
  {
   "cell_type": "code",
   "execution_count": null,
   "id": "26703bf1",
   "metadata": {},
   "outputs": [],
   "source": []
  },
  {
   "cell_type": "code",
   "execution_count": null,
   "id": "da54f83e",
   "metadata": {},
   "outputs": [],
   "source": []
  }
 ],
 "metadata": {
  "kernelspec": {
   "display_name": "Python 3 (ipykernel)",
   "language": "python",
   "name": "python3"
  },
  "language_info": {
   "codemirror_mode": {
    "name": "ipython",
    "version": 3
   },
   "file_extension": ".py",
   "mimetype": "text/x-python",
   "name": "python",
   "nbconvert_exporter": "python",
   "pygments_lexer": "ipython3",
   "version": "3.9.15"
  }
 },
 "nbformat": 4,
 "nbformat_minor": 5
}
