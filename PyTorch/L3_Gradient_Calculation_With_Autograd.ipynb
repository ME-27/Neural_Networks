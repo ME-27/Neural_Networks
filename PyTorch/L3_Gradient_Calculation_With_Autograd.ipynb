{
 "cells": [
  {
   "cell_type": "markdown",
   "id": "9ac68604",
   "metadata": {},
   "source": [
    "# PyTorch Tutorial 03 - Gradient Calculation With Autograd"
   ]
  },
  {
   "cell_type": "markdown",
   "id": "15767239",
   "metadata": {},
   "source": [
    "https://www.youtube.com/watch?v=DbeIqrwb_dE&list=PLqnslRFeH2UrcDBWF5mfPGpqQDSta6VK4&index=4"
   ]
  },
  {
   "cell_type": "code",
   "execution_count": null,
   "id": "380290e1",
   "metadata": {},
   "outputs": [],
   "source": []
  },
  {
   "cell_type": "code",
   "execution_count": 1,
   "id": "14766633",
   "metadata": {},
   "outputs": [],
   "source": [
    "import torch"
   ]
  },
  {
   "cell_type": "code",
   "execution_count": 2,
   "id": "55bc2e72",
   "metadata": {},
   "outputs": [
    {
     "data": {
      "text/plain": [
       "tensor([-0.9552,  0.0792,  1.0910])"
      ]
     },
     "execution_count": 2,
     "metadata": {},
     "output_type": "execute_result"
    }
   ],
   "source": [
    "x = torch.randn(3)\n",
    "x"
   ]
  },
  {
   "cell_type": "code",
   "execution_count": 3,
   "id": "8ca46807",
   "metadata": {},
   "outputs": [
    {
     "data": {
      "text/plain": [
       "tensor([1., 2., 3.], requires_grad=True)"
      ]
     },
     "execution_count": 3,
     "metadata": {},
     "output_type": "execute_result"
    }
   ],
   "source": [
    "x = torch.tensor([1., 2, 3], requires_grad=True)\n",
    "x"
   ]
  },
  {
   "cell_type": "code",
   "execution_count": 4,
   "id": "9c1af463",
   "metadata": {},
   "outputs": [
    {
     "data": {
      "text/plain": [
       "tensor([3., 4., 5.], grad_fn=<AddBackward0>)"
      ]
     },
     "execution_count": 4,
     "metadata": {},
     "output_type": "execute_result"
    }
   ],
   "source": [
    "y = x + 2\n",
    "y"
   ]
  },
  {
   "cell_type": "code",
   "execution_count": 5,
   "id": "d8ce2483",
   "metadata": {},
   "outputs": [
    {
     "data": {
      "text/plain": [
       "tensor([18., 32., 50.], grad_fn=<MulBackward0>)"
      ]
     },
     "execution_count": 5,
     "metadata": {},
     "output_type": "execute_result"
    }
   ],
   "source": [
    "z = y * y * 2\n",
    "z"
   ]
  },
  {
   "cell_type": "code",
   "execution_count": 6,
   "id": "e7eb95ec",
   "metadata": {},
   "outputs": [
    {
     "data": {
      "text/plain": [
       "tensor(33.3333, grad_fn=<MeanBackward0>)"
      ]
     },
     "execution_count": 6,
     "metadata": {},
     "output_type": "execute_result"
    }
   ],
   "source": [
    "z = z.mean()\n",
    "z"
   ]
  },
  {
   "cell_type": "markdown",
   "id": "04a06c0d",
   "metadata": {},
   "source": [
    "# computation of gradient with .backward()"
   ]
  },
  {
   "cell_type": "code",
   "execution_count": 7,
   "id": "4962a3da",
   "metadata": {},
   "outputs": [],
   "source": [
    "z.backward()"
   ]
  },
  {
   "cell_type": "code",
   "execution_count": 8,
   "id": "c66756c4",
   "metadata": {},
   "outputs": [
    {
     "data": {
      "text/plain": [
       "tensor([4.0000, 5.3333, 6.6667])"
      ]
     },
     "execution_count": 8,
     "metadata": {},
     "output_type": "execute_result"
    }
   ],
   "source": [
    "x.grad"
   ]
  },
  {
   "cell_type": "markdown",
   "id": "5ce5a05f",
   "metadata": {},
   "source": [
    "# preventing gradient history"
   ]
  },
  {
   "cell_type": "markdown",
   "id": "2d4b73b3",
   "metadata": {},
   "source": [
    "### .requires_grad_(False)"
   ]
  },
  {
   "cell_type": "code",
   "execution_count": 9,
   "id": "68029a24",
   "metadata": {},
   "outputs": [
    {
     "data": {
      "text/plain": [
       "tensor([1., 2., 3.])"
      ]
     },
     "execution_count": 9,
     "metadata": {},
     "output_type": "execute_result"
    }
   ],
   "source": [
    "x.requires_grad_(False)"
   ]
  },
  {
   "cell_type": "code",
   "execution_count": 10,
   "id": "b19120e6",
   "metadata": {},
   "outputs": [
    {
     "data": {
      "text/plain": [
       "tensor([1., 2., 3.])"
      ]
     },
     "execution_count": 10,
     "metadata": {},
     "output_type": "execute_result"
    }
   ],
   "source": [
    "x"
   ]
  },
  {
   "cell_type": "markdown",
   "id": "d9df28cb",
   "metadata": {},
   "source": [
    "#### yet it stores the last computed gradient"
   ]
  },
  {
   "cell_type": "code",
   "execution_count": 11,
   "id": "7a451d36",
   "metadata": {},
   "outputs": [
    {
     "data": {
      "text/plain": [
       "tensor([4.0000, 5.3333, 6.6667])"
      ]
     },
     "execution_count": 11,
     "metadata": {},
     "output_type": "execute_result"
    }
   ],
   "source": [
    "x.grad"
   ]
  },
  {
   "cell_type": "markdown",
   "id": "6a397db8",
   "metadata": {},
   "source": [
    "#### .backward() now will not compute with a function which employes x as a variable"
   ]
  },
  {
   "cell_type": "code",
   "execution_count": 12,
   "id": "5e8489ae",
   "metadata": {},
   "outputs": [],
   "source": [
    "# z = z.mean()\n",
    "# z.backward()  # execution of the code will come with an error"
   ]
  },
  {
   "cell_type": "markdown",
   "id": "83341d6e",
   "metadata": {},
   "source": [
    "### .detach_()"
   ]
  },
  {
   "cell_type": "code",
   "execution_count": 13,
   "id": "2d9baaab",
   "metadata": {},
   "outputs": [
    {
     "name": "stdout",
     "output_type": "stream",
     "text": [
      "tensor([1., 2., 3.], requires_grad=True) tensor([3., 4., 5.], grad_fn=<AddBackward0>)\n",
      "tensor([1., 2., 3.]) tensor([3., 4., 5.], grad_fn=<AddBackward0>)\n"
     ]
    }
   ],
   "source": [
    "x = torch.tensor([1., 2, 3], requires_grad=True)\n",
    "y = x + 2\n",
    "print(x, y)\n",
    "x.detach_()  # !!!\n",
    "print(x, y)  # in this case y will come with gradient function \n",
    "             # as it was set before autogradient parameter was detached from x variable"
   ]
  },
  {
   "cell_type": "markdown",
   "id": "32696e76",
   "metadata": {},
   "source": [
    "### with torch.no_grad()"
   ]
  },
  {
   "cell_type": "code",
   "execution_count": 14,
   "id": "98433337",
   "metadata": {},
   "outputs": [
    {
     "name": "stdout",
     "output_type": "stream",
     "text": [
      "tensor([1., 2., 3.], requires_grad=True) tensor([3., 4., 5.])\n"
     ]
    }
   ],
   "source": [
    "x = torch.tensor([1., 2, 3], requires_grad=True)\n",
    "with torch.no_grad():  # in this line we say that automatic computation of gradient must be skipped\n",
    "    y = x + 2\n",
    "    print(x, y)"
   ]
  },
  {
   "cell_type": "code",
   "execution_count": null,
   "id": "652fb28c",
   "metadata": {},
   "outputs": [],
   "source": []
  },
  {
   "cell_type": "markdown",
   "id": "6afa7272",
   "metadata": {},
   "source": [
    "# accumulation of gradients"
   ]
  },
  {
   "cell_type": "markdown",
   "id": "c3981824",
   "metadata": {},
   "source": [
    "#### one iteration"
   ]
  },
  {
   "cell_type": "code",
   "execution_count": 15,
   "id": "1322ea58",
   "metadata": {},
   "outputs": [
    {
     "name": "stdout",
     "output_type": "stream",
     "text": [
      "tensor([3., 3., 3., 3.])\n"
     ]
    }
   ],
   "source": [
    "weights = torch.ones(4, requires_grad=True)\n",
    "for epoch in range(1):\n",
    "    model_output = (weights * 3).sum()\n",
    "    model_output.backward()\n",
    "    print(weights.grad)"
   ]
  },
  {
   "cell_type": "markdown",
   "id": "93ff2237",
   "metadata": {},
   "source": [
    "#### three iteration"
   ]
  },
  {
   "cell_type": "code",
   "execution_count": 16,
   "id": "0819e021",
   "metadata": {},
   "outputs": [
    {
     "name": "stdout",
     "output_type": "stream",
     "text": [
      "tensor([3., 3., 3., 3.])\n",
      "tensor([6., 6., 6., 6.])\n",
      "tensor([9., 9., 9., 9.])\n"
     ]
    }
   ],
   "source": [
    "weights = torch.ones(4, requires_grad=True)\n",
    "for epoch in range(3):\n",
    "    model_output = (weights * 3).sum()\n",
    "    model_output.backward()\n",
    "    print(weights.grad)"
   ]
  },
  {
   "cell_type": "code",
   "execution_count": null,
   "id": "5a2d6f0a",
   "metadata": {},
   "outputs": [],
   "source": []
  },
  {
   "cell_type": "markdown",
   "id": "e2ad9711",
   "metadata": {},
   "source": [
    "# zeroing gradients with weights.grad.zero_()"
   ]
  },
  {
   "cell_type": "code",
   "execution_count": 17,
   "id": "f5d87346",
   "metadata": {},
   "outputs": [
    {
     "name": "stdout",
     "output_type": "stream",
     "text": [
      "tensor([3., 3., 3., 3.])\n",
      "tensor([0., 0., 0., 0.])\n",
      "tensor([3., 3., 3., 3.])\n",
      "tensor([0., 0., 0., 0.])\n",
      "tensor([3., 3., 3., 3.])\n",
      "tensor([0., 0., 0., 0.])\n"
     ]
    }
   ],
   "source": [
    "weights = torch.ones(4, requires_grad=True)\n",
    "for epoch in range(3):\n",
    "    model_output = (weights * 3).sum()\n",
    "    model_output.backward()\n",
    "    print(weights.grad)\n",
    "    weights.grad.zero_()  # !!!\n",
    "    print(weights.grad)"
   ]
  },
  {
   "cell_type": "code",
   "execution_count": null,
   "id": "e49dd61a",
   "metadata": {},
   "outputs": [],
   "source": []
  },
  {
   "cell_type": "code",
   "execution_count": null,
   "id": "170c6bdd",
   "metadata": {},
   "outputs": [],
   "source": []
  }
 ],
 "metadata": {
  "kernelspec": {
   "display_name": "Python 3 (ipykernel)",
   "language": "python",
   "name": "python3"
  },
  "language_info": {
   "codemirror_mode": {
    "name": "ipython",
    "version": 3
   },
   "file_extension": ".py",
   "mimetype": "text/x-python",
   "name": "python",
   "nbconvert_exporter": "python",
   "pygments_lexer": "ipython3",
   "version": "3.9.15"
  }
 },
 "nbformat": 4,
 "nbformat_minor": 5
}
