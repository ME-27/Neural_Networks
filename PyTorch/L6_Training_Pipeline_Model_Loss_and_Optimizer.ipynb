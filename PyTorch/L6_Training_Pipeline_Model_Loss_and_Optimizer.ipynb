{
 "cells": [
  {
   "cell_type": "markdown",
   "id": "a7f2534d",
   "metadata": {},
   "source": [
    "# PyTorch Tutorial 06 - Training Pipeline: Model, Loss, and Optimizer"
   ]
  },
  {
   "cell_type": "markdown",
   "id": "e6827355",
   "metadata": {},
   "source": [
    "https://www.youtube.com/watch?v=VVDHU_TWwUg&list=PLqnslRFeH2UrcDBWF5mfPGpqQDSta6VK4&index=6"
   ]
  },
  {
   "cell_type": "code",
   "execution_count": null,
   "id": "93944718",
   "metadata": {},
   "outputs": [],
   "source": []
  },
  {
   "cell_type": "markdown",
   "id": "18edf6cf",
   "metadata": {},
   "source": [
    "    1) design model (input, output size, forward pass)\n",
    "    2) construct loss and optimizer\n",
    "    3) training loop\n",
    "        - forward pass: compute predictions\n",
    "        - backward pass: compute gradients\n",
    "        - update weights"
   ]
  },
  {
   "cell_type": "code",
   "execution_count": 1,
   "id": "d266b01b",
   "metadata": {},
   "outputs": [],
   "source": [
    "import torch\n",
    "import torch.nn as nn"
   ]
  },
  {
   "cell_type": "code",
   "execution_count": 2,
   "id": "a5baf728",
   "metadata": {},
   "outputs": [],
   "source": [
    "# f = 2 * x"
   ]
  },
  {
   "cell_type": "code",
   "execution_count": 3,
   "id": "7dbf5deb",
   "metadata": {},
   "outputs": [
    {
     "name": "stdout",
     "output_type": "stream",
     "text": [
      "4 1\n"
     ]
    }
   ],
   "source": [
    "X = torch.tensor([[1], [2], [3], [4]], dtype=torch.float32)\n",
    "Y = torch.tensor([[2], [4], [6], [8]], dtype=torch.float32)\n",
    "\n",
    "X_test = torch.tensor([5], dtype=torch.float32)\n",
    "\n",
    "n_samples, n_features = X.shape\n",
    "print(n_samples, n_features)"
   ]
  },
  {
   "cell_type": "code",
   "execution_count": 4,
   "id": "50fe39d4",
   "metadata": {},
   "outputs": [],
   "source": [
    "input_size = n_features\n",
    "output_size = n_features"
   ]
  },
  {
   "cell_type": "code",
   "execution_count": 5,
   "id": "c805419e",
   "metadata": {},
   "outputs": [],
   "source": [
    "# model = nn.Linear(input_size, output_size)\n",
    "\n",
    "# replacement of the code line above\n",
    "# custom linear regression module:\n",
    "class LinearRegression(nn.Module):\n",
    "    def __init__(self, input_dim, output_dim):\n",
    "        super(LinearRegression, self).__init__()\n",
    "        # define layers\n",
    "        self.lin = nn.Linear(input_dim, output_dim)\n",
    "\n",
    "    def forward(self, x):\n",
    "        return self.lin(x)\n",
    "\n",
    "model = LinearRegression(input_size, output_size)"
   ]
  },
  {
   "cell_type": "code",
   "execution_count": 6,
   "id": "12e6c810",
   "metadata": {},
   "outputs": [
    {
     "name": "stdout",
     "output_type": "stream",
     "text": [
      "prediction before training: f(5) = 0.286\n"
     ]
    }
   ],
   "source": [
    "print(f'prediction before training: f(5) = {model(X_test).item():.3f}')"
   ]
  },
  {
   "cell_type": "code",
   "execution_count": 7,
   "id": "644e7f52",
   "metadata": {},
   "outputs": [
    {
     "name": "stdout",
     "output_type": "stream",
     "text": [
      "epoch 1: w = 0.471, loss = 30.55673790\n",
      "epoch 11: w = 1.737, loss = 0.79114270\n",
      "epoch 21: w = 1.942, loss = 0.02100253\n",
      "epoch 31: w = 1.975, loss = 0.00104605\n",
      "epoch 41: w = 1.981, loss = 0.00050048\n",
      "epoch 51: w = 1.982, loss = 0.00045881\n",
      "epoch 61: w = 1.983, loss = 0.00043178\n",
      "epoch 71: w = 1.983, loss = 0.00040664\n",
      "epoch 81: w = 1.984, loss = 0.00038297\n",
      "epoch 91: w = 1.984, loss = 0.00036068\n",
      "epoch 101: w = 1.985, loss = 0.00033969\n",
      "epoch 111: w = 1.985, loss = 0.00031991\n",
      "epoch 121: w = 1.986, loss = 0.00030130\n",
      "epoch 131: w = 1.986, loss = 0.00028376\n",
      "epoch 141: w = 1.986, loss = 0.00026724\n",
      "epoch 151: w = 1.987, loss = 0.00025169\n",
      "epoch 161: w = 1.987, loss = 0.00023704\n",
      "epoch 171: w = 1.988, loss = 0.00022324\n",
      "epoch 181: w = 1.988, loss = 0.00021025\n",
      "epoch 191: w = 1.988, loss = 0.00019801\n",
      "epoch 201: w = 1.989, loss = 0.00018648\n",
      "epoch 211: w = 1.989, loss = 0.00017563\n",
      "epoch 221: w = 1.989, loss = 0.00016540\n",
      "epoch 231: w = 1.990, loss = 0.00015578\n",
      "epoch 241: w = 1.990, loss = 0.00014671\n",
      "epoch 251: w = 1.990, loss = 0.00013817\n",
      "epoch 261: w = 1.991, loss = 0.00013013\n",
      "epoch 271: w = 1.991, loss = 0.00012255\n",
      "epoch 281: w = 1.991, loss = 0.00011542\n",
      "epoch 291: w = 1.991, loss = 0.00010870\n",
      "epoch 301: w = 1.992, loss = 0.00010238\n",
      "epoch 311: w = 1.992, loss = 0.00009642\n",
      "epoch 321: w = 1.992, loss = 0.00009081\n",
      "epoch 331: w = 1.992, loss = 0.00008552\n"
     ]
    }
   ],
   "source": [
    "# training\n",
    "\n",
    "learning_rate = 0.01\n",
    "n_iters = 333\n",
    "\n",
    "loss = nn.MSELoss()\n",
    "optimizer = torch.optim.SGD(model.parameters(),  # list of parameters\n",
    "                           lr=learning_rate)\n",
    "\n",
    "for epoch in range(n_iters):\n",
    "    # prediction - forward pass\n",
    "    y_pred = model(X)\n",
    "    \n",
    "    # loss\n",
    "    L = loss(Y, y_pred)\n",
    "    \n",
    "    # gradients = backward pass\n",
    "    L.backward()\n",
    "    \n",
    "    # update weights\n",
    "    optimizer.step()\n",
    "    \n",
    "    # zero gradients\n",
    "    optimizer.zero_grad()\n",
    "    \n",
    "    if epoch % 10 == 0:\n",
    "        [w, b] = model.parameters()\n",
    "        print(f'epoch {epoch+1}: w = {w[0][0].item():.3f}, loss = {L:.8f}') "
   ]
  },
  {
   "cell_type": "code",
   "execution_count": 8,
   "id": "2bd4d441",
   "metadata": {},
   "outputs": [
    {
     "name": "stdout",
     "output_type": "stream",
     "text": [
      "prediction after training: f(5) = 9.984\n"
     ]
    }
   ],
   "source": [
    "print(f'prediction after training: f(5) = {model(X_test).item():.3f}')"
   ]
  },
  {
   "cell_type": "code",
   "execution_count": null,
   "id": "a0ad57d7",
   "metadata": {},
   "outputs": [],
   "source": []
  },
  {
   "cell_type": "code",
   "execution_count": null,
   "id": "bcac5c5f",
   "metadata": {},
   "outputs": [],
   "source": []
  },
  {
   "cell_type": "code",
   "execution_count": null,
   "id": "f9c0860d",
   "metadata": {},
   "outputs": [],
   "source": []
  }
 ],
 "metadata": {
  "kernelspec": {
   "display_name": "Python 3 (ipykernel)",
   "language": "python",
   "name": "python3"
  },
  "language_info": {
   "codemirror_mode": {
    "name": "ipython",
    "version": 3
   },
   "file_extension": ".py",
   "mimetype": "text/x-python",
   "name": "python",
   "nbconvert_exporter": "python",
   "pygments_lexer": "ipython3",
   "version": "3.9.15"
  }
 },
 "nbformat": 4,
 "nbformat_minor": 5
}
