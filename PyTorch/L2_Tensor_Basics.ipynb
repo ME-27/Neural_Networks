{
 "cells": [
  {
   "cell_type": "markdown",
   "id": "8344494b",
   "metadata": {},
   "source": [
    "# PyTorch Tutorial 02 - Tensor Basics"
   ]
  },
  {
   "cell_type": "code",
   "execution_count": null,
   "id": "f6c78478",
   "metadata": {},
   "outputs": [],
   "source": []
  },
  {
   "cell_type": "code",
   "execution_count": 1,
   "id": "2c0f239a",
   "metadata": {},
   "outputs": [],
   "source": [
    "import torch"
   ]
  },
  {
   "cell_type": "markdown",
   "id": "c0bae06d",
   "metadata": {},
   "source": [
    "### torch.empty"
   ]
  },
  {
   "cell_type": "code",
   "execution_count": 2,
   "id": "c8b78959",
   "metadata": {},
   "outputs": [
    {
     "data": {
      "text/plain": [
       "tensor([0.])"
      ]
     },
     "execution_count": 2,
     "metadata": {},
     "output_type": "execute_result"
    }
   ],
   "source": [
    "x = torch.empty(1)  # 1D vector with 1 element\n",
    "x"
   ]
  },
  {
   "cell_type": "code",
   "execution_count": 3,
   "id": "a5a276b5",
   "metadata": {},
   "outputs": [
    {
     "data": {
      "text/plain": [
       "tensor([0., 0., 0.])"
      ]
     },
     "execution_count": 3,
     "metadata": {},
     "output_type": "execute_result"
    }
   ],
   "source": [
    "x = torch.empty(3)  # 1D vector with 3 elements\n",
    "x"
   ]
  },
  {
   "cell_type": "code",
   "execution_count": 4,
   "id": "ae796bed",
   "metadata": {},
   "outputs": [
    {
     "data": {
      "text/plain": [
       "tensor([[4.4103e+30, 8.9403e-43, 4.4103e+30],\n",
       "        [8.9403e-43, 4.4939e+30, 8.9403e-43]])"
      ]
     },
     "execution_count": 4,
     "metadata": {},
     "output_type": "execute_result"
    }
   ],
   "source": [
    "x = torch.empty(2, 3)  # 2D matrix\n",
    "x"
   ]
  },
  {
   "cell_type": "code",
   "execution_count": 5,
   "id": "ef680220",
   "metadata": {},
   "outputs": [
    {
     "data": {
      "text/plain": [
       "tensor([[[0., 0., 0.],\n",
       "         [0., 0., 0.]],\n",
       "\n",
       "        [[0., 0., 0.],\n",
       "         [0., 0., 0.]]])"
      ]
     },
     "execution_count": 5,
     "metadata": {},
     "output_type": "execute_result"
    }
   ],
   "source": [
    "x = torch.empty(2, 2, 3)  # 3D tensor\n",
    "x"
   ]
  },
  {
   "cell_type": "code",
   "execution_count": 6,
   "id": "41f6bc2d",
   "metadata": {},
   "outputs": [
    {
     "data": {
      "text/plain": [
       "tensor([[[[9.2755e-39, 1.0561e-38],\n",
       "          [9.3673e-39, 1.0194e-38]],\n",
       "\n",
       "         [[1.0561e-38, 4.2246e-39],\n",
       "          [1.0286e-38, 1.0653e-38]]],\n",
       "\n",
       "\n",
       "        [[[1.0194e-38, 8.4490e-39],\n",
       "          [1.0469e-38, 9.3674e-39]],\n",
       "\n",
       "         [[9.9184e-39, 8.7245e-39],\n",
       "          [9.2755e-39, 8.9082e-39]]]])"
      ]
     },
     "execution_count": 6,
     "metadata": {},
     "output_type": "execute_result"
    }
   ],
   "source": [
    "x = torch.empty(2, 2, 2, 2)  # 4D tensor\n",
    "x"
   ]
  },
  {
   "cell_type": "markdown",
   "id": "df14baf1",
   "metadata": {},
   "source": [
    "### torch.rand"
   ]
  },
  {
   "cell_type": "code",
   "execution_count": 7,
   "id": "c00a3053",
   "metadata": {},
   "outputs": [
    {
     "data": {
      "text/plain": [
       "tensor([[0.8420, 0.6682],\n",
       "        [0.4225, 0.5284]])"
      ]
     },
     "execution_count": 7,
     "metadata": {},
     "output_type": "execute_result"
    }
   ],
   "source": [
    "x = torch.rand(2, 2)\n",
    "x"
   ]
  },
  {
   "cell_type": "markdown",
   "id": "9c4cc214",
   "metadata": {},
   "source": [
    "### torch.zeros"
   ]
  },
  {
   "cell_type": "code",
   "execution_count": 8,
   "id": "a67accd7",
   "metadata": {},
   "outputs": [
    {
     "data": {
      "text/plain": [
       "tensor([[0., 0.],\n",
       "        [0., 0.]])"
      ]
     },
     "execution_count": 8,
     "metadata": {},
     "output_type": "execute_result"
    }
   ],
   "source": [
    "x = torch.zeros(2, 2)\n",
    "x"
   ]
  },
  {
   "cell_type": "markdown",
   "id": "5874a0b6",
   "metadata": {},
   "source": [
    "### torch.ones"
   ]
  },
  {
   "cell_type": "code",
   "execution_count": 9,
   "id": "b5acc208",
   "metadata": {},
   "outputs": [
    {
     "data": {
      "text/plain": [
       "tensor([[1., 1.],\n",
       "        [1., 1.]])"
      ]
     },
     "execution_count": 9,
     "metadata": {},
     "output_type": "execute_result"
    }
   ],
   "source": [
    "x = torch.ones(2, 2)\n",
    "x"
   ]
  },
  {
   "cell_type": "markdown",
   "id": "efcfa580",
   "metadata": {},
   "source": [
    "### setting dtype"
   ]
  },
  {
   "cell_type": "code",
   "execution_count": 10,
   "id": "2afd1651",
   "metadata": {},
   "outputs": [
    {
     "data": {
      "text/plain": [
       "torch.float32"
      ]
     },
     "execution_count": 10,
     "metadata": {},
     "output_type": "execute_result"
    }
   ],
   "source": [
    "x.dtype"
   ]
  },
  {
   "cell_type": "markdown",
   "id": "30aa260c",
   "metadata": {},
   "source": [
    "torch.float32 is set by default"
   ]
  },
  {
   "cell_type": "code",
   "execution_count": 11,
   "id": "35417dce",
   "metadata": {},
   "outputs": [
    {
     "data": {
      "text/plain": [
       "tensor([[1., 1.],\n",
       "        [1., 1.]], dtype=torch.float64)"
      ]
     },
     "execution_count": 11,
     "metadata": {},
     "output_type": "execute_result"
    }
   ],
   "source": [
    "x = torch.ones(2, 2, dtype=torch.double)\n",
    "x"
   ]
  },
  {
   "cell_type": "code",
   "execution_count": 12,
   "id": "a2048ba3",
   "metadata": {},
   "outputs": [
    {
     "data": {
      "text/plain": [
       "torch.float64"
      ]
     },
     "execution_count": 12,
     "metadata": {},
     "output_type": "execute_result"
    }
   ],
   "source": [
    "x.dtype"
   ]
  },
  {
   "cell_type": "markdown",
   "id": "8d76f13c",
   "metadata": {},
   "source": [
    "### x.size()"
   ]
  },
  {
   "cell_type": "code",
   "execution_count": 13,
   "id": "f473fe91",
   "metadata": {},
   "outputs": [
    {
     "data": {
      "text/plain": [
       "torch.Size([2, 2])"
      ]
     },
     "execution_count": 13,
     "metadata": {},
     "output_type": "execute_result"
    }
   ],
   "source": [
    "x.size()"
   ]
  },
  {
   "cell_type": "markdown",
   "id": "9130d44e",
   "metadata": {},
   "source": [
    "### torch.tensor"
   ]
  },
  {
   "cell_type": "code",
   "execution_count": 14,
   "id": "d677898e",
   "metadata": {},
   "outputs": [
    {
     "data": {
      "text/plain": [
       "tensor([2.5000, 0.1000])"
      ]
     },
     "execution_count": 14,
     "metadata": {},
     "output_type": "execute_result"
    }
   ],
   "source": [
    "x = torch.tensor([2.5, 0.1])\n",
    "x"
   ]
  },
  {
   "cell_type": "code",
   "execution_count": 15,
   "id": "7a96c724",
   "metadata": {},
   "outputs": [
    {
     "data": {
      "text/plain": [
       "tensor([[2.5000, 0.1000],\n",
       "        [2.0000, 0.0000]])"
      ]
     },
     "execution_count": 15,
     "metadata": {},
     "output_type": "execute_result"
    }
   ],
   "source": [
    "x = torch.tensor([[2.5, 0.1], [2., 0.]])\n",
    "x"
   ]
  },
  {
   "cell_type": "markdown",
   "id": "826449a7",
   "metadata": {},
   "source": [
    "### torch.tensor"
   ]
  },
  {
   "cell_type": "code",
   "execution_count": 16,
   "id": "203fcb4d",
   "metadata": {},
   "outputs": [
    {
     "data": {
      "text/plain": [
       "tensor([1, 2])"
      ]
     },
     "execution_count": 16,
     "metadata": {},
     "output_type": "execute_result"
    }
   ],
   "source": [
    "x = torch.tensor([1, 2])\n",
    "x"
   ]
  },
  {
   "cell_type": "code",
   "execution_count": 17,
   "id": "9dd6dde5",
   "metadata": {},
   "outputs": [
    {
     "data": {
      "text/plain": [
       "torch.int64"
      ]
     },
     "execution_count": 17,
     "metadata": {},
     "output_type": "execute_result"
    }
   ],
   "source": [
    "x.dtype"
   ]
  },
  {
   "cell_type": "markdown",
   "id": "bceac071",
   "metadata": {},
   "source": [
    "### sum of tensors"
   ]
  },
  {
   "cell_type": "code",
   "execution_count": 18,
   "id": "9f2f1bd5",
   "metadata": {},
   "outputs": [
    {
     "name": "stdout",
     "output_type": "stream",
     "text": [
      "tensor([[1., 1.],\n",
      "        [1., 1.]])\n",
      "tensor([[1., 1.],\n",
      "        [1., 1.]])\n",
      "\n",
      " tensor([[2., 2.],\n",
      "        [2., 2.]])\n"
     ]
    }
   ],
   "source": [
    "x = torch.ones(2, 2)\n",
    "y = torch.ones(2, 2)\n",
    "print(x)\n",
    "print(y)\n",
    "z = x + y\n",
    "print('\\n', z)"
   ]
  },
  {
   "cell_type": "code",
   "execution_count": 19,
   "id": "d56731e5",
   "metadata": {},
   "outputs": [
    {
     "name": "stdout",
     "output_type": "stream",
     "text": [
      "tensor([[1, 2],\n",
      "        [3, 4]])\n",
      "tensor([10, 20])\n",
      "\n",
      " tensor([[11, 22],\n",
      "        [13, 24]])\n"
     ]
    }
   ],
   "source": [
    "x = torch.tensor([[1, 2], [3, 4]])\n",
    "y = torch.tensor([10, 20])\n",
    "print(x)\n",
    "print(y)\n",
    "z = x + y\n",
    "print('\\n', z)"
   ]
  },
  {
   "cell_type": "markdown",
   "id": "9ca5806e",
   "metadata": {},
   "source": [
    "#### the same, but with .add method"
   ]
  },
  {
   "cell_type": "code",
   "execution_count": 20,
   "id": "f029d254",
   "metadata": {},
   "outputs": [
    {
     "data": {
      "text/plain": [
       "tensor([[11, 22],\n",
       "        [13, 24]])"
      ]
     },
     "execution_count": 20,
     "metadata": {},
     "output_type": "execute_result"
    }
   ],
   "source": [
    "x = torch.tensor([[1, 2], [3, 4]])\n",
    "y = torch.tensor([10, 20])\n",
    "x.add(y)"
   ]
  },
  {
   "cell_type": "markdown",
   "id": "ae659fc7",
   "metadata": {},
   "source": [
    "### subtraction of tensors"
   ]
  },
  {
   "cell_type": "code",
   "execution_count": 21,
   "id": "93df9555",
   "metadata": {},
   "outputs": [
    {
     "data": {
      "text/plain": [
       "tensor([[ -9, -18],\n",
       "        [ -7, -16]])"
      ]
     },
     "execution_count": 21,
     "metadata": {},
     "output_type": "execute_result"
    }
   ],
   "source": [
    "x - y"
   ]
  },
  {
   "cell_type": "code",
   "execution_count": 22,
   "id": "d48144cc",
   "metadata": {},
   "outputs": [
    {
     "data": {
      "text/plain": [
       "tensor([[ -9, -18],\n",
       "        [ -7, -16]])"
      ]
     },
     "execution_count": 22,
     "metadata": {},
     "output_type": "execute_result"
    }
   ],
   "source": [
    "x.sub(y)"
   ]
  },
  {
   "cell_type": "markdown",
   "id": "0eb6dc2c",
   "metadata": {},
   "source": [
    "### multiplication of tensors"
   ]
  },
  {
   "cell_type": "code",
   "execution_count": 23,
   "id": "cc7deded",
   "metadata": {},
   "outputs": [
    {
     "data": {
      "text/plain": [
       "tensor([[10, 40],\n",
       "        [30, 80]])"
      ]
     },
     "execution_count": 23,
     "metadata": {},
     "output_type": "execute_result"
    }
   ],
   "source": [
    "x * y"
   ]
  },
  {
   "cell_type": "code",
   "execution_count": 24,
   "id": "b4c51676",
   "metadata": {},
   "outputs": [
    {
     "data": {
      "text/plain": [
       "tensor([[10, 40],\n",
       "        [30, 80]])"
      ]
     },
     "execution_count": 24,
     "metadata": {},
     "output_type": "execute_result"
    }
   ],
   "source": [
    "x.mul(y)"
   ]
  },
  {
   "cell_type": "markdown",
   "id": "1d19efaa",
   "metadata": {},
   "source": [
    "### division of tensors"
   ]
  },
  {
   "cell_type": "code",
   "execution_count": 25,
   "id": "759b6c82",
   "metadata": {},
   "outputs": [
    {
     "data": {
      "text/plain": [
       "tensor([[0.1000, 0.1000],\n",
       "        [0.3000, 0.2000]])"
      ]
     },
     "execution_count": 25,
     "metadata": {},
     "output_type": "execute_result"
    }
   ],
   "source": [
    "x / y"
   ]
  },
  {
   "cell_type": "code",
   "execution_count": 26,
   "id": "c0bf5b86",
   "metadata": {},
   "outputs": [
    {
     "data": {
      "text/plain": [
       "tensor([[0.1000, 0.1000],\n",
       "        [0.3000, 0.2000]])"
      ]
     },
     "execution_count": 26,
     "metadata": {},
     "output_type": "execute_result"
    }
   ],
   "source": [
    "x.div(y)"
   ]
  },
  {
   "cell_type": "markdown",
   "id": "c283bfb6",
   "metadata": {},
   "source": [
    "## NB! if we add _ to any arithmetic operator (e.g. 'mul_'), it is the same as 'inplace=True'"
   ]
  },
  {
   "cell_type": "code",
   "execution_count": null,
   "id": "2c833a54",
   "metadata": {},
   "outputs": [],
   "source": []
  },
  {
   "cell_type": "markdown",
   "id": "a8e1ea00",
   "metadata": {},
   "source": [
    "### slicing"
   ]
  },
  {
   "cell_type": "code",
   "execution_count": 27,
   "id": "412617be",
   "metadata": {},
   "outputs": [
    {
     "data": {
      "text/plain": [
       "tensor([[0.7457, 0.4644, 0.7083],\n",
       "        [0.9373, 0.7255, 0.9811],\n",
       "        [0.7784, 0.8741, 0.8435],\n",
       "        [0.0475, 0.1124, 0.5763],\n",
       "        [0.8853, 0.3457, 0.9435]])"
      ]
     },
     "execution_count": 27,
     "metadata": {},
     "output_type": "execute_result"
    }
   ],
   "source": [
    "x = torch.rand(5, 3)\n",
    "x"
   ]
  },
  {
   "cell_type": "code",
   "execution_count": 28,
   "id": "372e114f",
   "metadata": {},
   "outputs": [
    {
     "data": {
      "text/plain": [
       "tensor([0.7457, 0.9373, 0.7784, 0.0475, 0.8853])"
      ]
     },
     "execution_count": 28,
     "metadata": {},
     "output_type": "execute_result"
    }
   ],
   "source": [
    "x[:, 0]  # first column"
   ]
  },
  {
   "cell_type": "code",
   "execution_count": 29,
   "id": "a8b38ee7",
   "metadata": {},
   "outputs": [
    {
     "data": {
      "text/plain": [
       "tensor([0.9373, 0.7255, 0.9811])"
      ]
     },
     "execution_count": 29,
     "metadata": {},
     "output_type": "execute_result"
    }
   ],
   "source": [
    "x[1, :]  # second row"
   ]
  },
  {
   "cell_type": "markdown",
   "id": "eee0f36a",
   "metadata": {},
   "source": [
    "### item extraction"
   ]
  },
  {
   "cell_type": "code",
   "execution_count": 30,
   "id": "c32a39c9",
   "metadata": {},
   "outputs": [
    {
     "data": {
      "text/plain": [
       "tensor(0.7255)"
      ]
     },
     "execution_count": 30,
     "metadata": {},
     "output_type": "execute_result"
    }
   ],
   "source": [
    "x[1, 1]"
   ]
  },
  {
   "cell_type": "code",
   "execution_count": 31,
   "id": "71b62b10",
   "metadata": {},
   "outputs": [
    {
     "data": {
      "text/plain": [
       "0.7254769802093506"
      ]
     },
     "execution_count": 31,
     "metadata": {},
     "output_type": "execute_result"
    }
   ],
   "source": [
    "x[1, 1].item()"
   ]
  },
  {
   "cell_type": "markdown",
   "id": "3f0e9d93",
   "metadata": {},
   "source": [
    "NB! only one item can be extracted"
   ]
  },
  {
   "cell_type": "markdown",
   "id": "4103cefd",
   "metadata": {},
   "source": [
    "### reshaping with x.view"
   ]
  },
  {
   "cell_type": "code",
   "execution_count": 32,
   "id": "e721f931",
   "metadata": {},
   "outputs": [
    {
     "data": {
      "text/plain": [
       "tensor([[0.2662, 0.8794, 0.3929, 0.5837],\n",
       "        [0.3535, 0.8671, 0.2839, 0.1218],\n",
       "        [0.9937, 0.4911, 0.2519, 0.0792],\n",
       "        [0.5725, 0.0668, 0.1477, 0.7960]])"
      ]
     },
     "execution_count": 32,
     "metadata": {},
     "output_type": "execute_result"
    }
   ],
   "source": [
    "x = torch.rand(4, 4)\n",
    "x"
   ]
  },
  {
   "cell_type": "code",
   "execution_count": 33,
   "id": "636cbb00",
   "metadata": {},
   "outputs": [
    {
     "data": {
      "text/plain": [
       "tensor([0.2662, 0.8794, 0.3929, 0.5837, 0.3535, 0.8671, 0.2839, 0.1218, 0.9937,\n",
       "        0.4911, 0.2519, 0.0792, 0.5725, 0.0668, 0.1477, 0.7960])"
      ]
     },
     "execution_count": 33,
     "metadata": {},
     "output_type": "execute_result"
    }
   ],
   "source": [
    "x.view(16)"
   ]
  },
  {
   "cell_type": "code",
   "execution_count": 34,
   "id": "f963f235",
   "metadata": {},
   "outputs": [
    {
     "data": {
      "text/plain": [
       "tensor([[0.2662, 0.8794, 0.3929, 0.5837, 0.3535, 0.8671, 0.2839, 0.1218],\n",
       "        [0.9937, 0.4911, 0.2519, 0.0792, 0.5725, 0.0668, 0.1477, 0.7960]])"
      ]
     },
     "execution_count": 34,
     "metadata": {},
     "output_type": "execute_result"
    }
   ],
   "source": [
    "x.view(2, 8)"
   ]
  },
  {
   "cell_type": "code",
   "execution_count": 35,
   "id": "0ddf23c8",
   "metadata": {},
   "outputs": [
    {
     "data": {
      "text/plain": [
       "tensor([[0.2662, 0.8794],\n",
       "        [0.3929, 0.5837],\n",
       "        [0.3535, 0.8671],\n",
       "        [0.2839, 0.1218],\n",
       "        [0.9937, 0.4911],\n",
       "        [0.2519, 0.0792],\n",
       "        [0.5725, 0.0668],\n",
       "        [0.1477, 0.7960]])"
      ]
     },
     "execution_count": 35,
     "metadata": {},
     "output_type": "execute_result"
    }
   ],
   "source": [
    "x.view(-1, 2)  # -1 means that the size has to be adjusted automatically"
   ]
  },
  {
   "cell_type": "code",
   "execution_count": null,
   "id": "3bd31b7e",
   "metadata": {},
   "outputs": [],
   "source": []
  },
  {
   "cell_type": "markdown",
   "id": "2eddf4ce",
   "metadata": {},
   "source": [
    "## conversion from numpy array and vice versa"
   ]
  },
  {
   "cell_type": "code",
   "execution_count": 36,
   "id": "3bbeddf2",
   "metadata": {},
   "outputs": [],
   "source": [
    "import numpy as np"
   ]
  },
  {
   "cell_type": "code",
   "execution_count": 37,
   "id": "ea2ab17d",
   "metadata": {},
   "outputs": [
    {
     "data": {
      "text/plain": [
       "tensor([[[1., 1., 1., 1.],\n",
       "         [1., 1., 1., 1.],\n",
       "         [1., 1., 1., 1.]],\n",
       "\n",
       "        [[1., 1., 1., 1.],\n",
       "         [1., 1., 1., 1.],\n",
       "         [1., 1., 1., 1.]]])"
      ]
     },
     "execution_count": 37,
     "metadata": {},
     "output_type": "execute_result"
    }
   ],
   "source": [
    "a = torch.ones(2, 3, 4)\n",
    "a"
   ]
  },
  {
   "cell_type": "markdown",
   "id": "fd484b52",
   "metadata": {},
   "source": [
    "### .numpy"
   ]
  },
  {
   "cell_type": "code",
   "execution_count": 38,
   "id": "ffd8ad51",
   "metadata": {},
   "outputs": [
    {
     "data": {
      "text/plain": [
       "array([[[1., 1., 1., 1.],\n",
       "        [1., 1., 1., 1.],\n",
       "        [1., 1., 1., 1.]],\n",
       "\n",
       "       [[1., 1., 1., 1.],\n",
       "        [1., 1., 1., 1.],\n",
       "        [1., 1., 1., 1.]]], dtype=float32)"
      ]
     },
     "execution_count": 38,
     "metadata": {},
     "output_type": "execute_result"
    }
   ],
   "source": [
    "b = a.numpy()\n",
    "b"
   ]
  },
  {
   "cell_type": "code",
   "execution_count": 39,
   "id": "04940539",
   "metadata": {},
   "outputs": [
    {
     "data": {
      "text/plain": [
       "tensor([[[2., 2., 2., 2.],\n",
       "         [2., 2., 2., 2.],\n",
       "         [2., 2., 2., 2.]],\n",
       "\n",
       "        [[2., 2., 2., 2.],\n",
       "         [2., 2., 2., 2.],\n",
       "         [2., 2., 2., 2.]]])"
      ]
     },
     "execution_count": 39,
     "metadata": {},
     "output_type": "execute_result"
    }
   ],
   "source": [
    "a.add_(1)"
   ]
  },
  {
   "cell_type": "code",
   "execution_count": 40,
   "id": "1d4f3fb0",
   "metadata": {},
   "outputs": [
    {
     "data": {
      "text/plain": [
       "array([[[2., 2., 2., 2.],\n",
       "        [2., 2., 2., 2.],\n",
       "        [2., 2., 2., 2.]],\n",
       "\n",
       "       [[2., 2., 2., 2.],\n",
       "        [2., 2., 2., 2.],\n",
       "        [2., 2., 2., 2.]]], dtype=float32)"
      ]
     },
     "execution_count": 40,
     "metadata": {},
     "output_type": "execute_result"
    }
   ],
   "source": [
    "b"
   ]
  },
  {
   "cell_type": "markdown",
   "id": "b8601fbb",
   "metadata": {},
   "source": [
    "## NB! b was changed too! it happened due to the tensor was created under CPU, not GPU"
   ]
  },
  {
   "cell_type": "markdown",
   "id": "e7a12cd4",
   "metadata": {},
   "source": [
    "### torch.from_numpy"
   ]
  },
  {
   "cell_type": "code",
   "execution_count": 42,
   "id": "5fa4830c",
   "metadata": {},
   "outputs": [
    {
     "data": {
      "text/plain": [
       "array([1., 1., 1., 1., 1.])"
      ]
     },
     "execution_count": 42,
     "metadata": {},
     "output_type": "execute_result"
    }
   ],
   "source": [
    "a = np.ones(5)\n",
    "a"
   ]
  },
  {
   "cell_type": "code",
   "execution_count": 43,
   "id": "aa33f59b",
   "metadata": {},
   "outputs": [
    {
     "data": {
      "text/plain": [
       "tensor([1., 1., 1., 1., 1.], dtype=torch.float64)"
      ]
     },
     "execution_count": 43,
     "metadata": {},
     "output_type": "execute_result"
    }
   ],
   "source": [
    "b = torch.from_numpy(a)\n",
    "b"
   ]
  },
  {
   "cell_type": "code",
   "execution_count": 44,
   "id": "18d8bf85",
   "metadata": {},
   "outputs": [
    {
     "data": {
      "text/plain": [
       "array([2., 2., 2., 2., 2.])"
      ]
     },
     "execution_count": 44,
     "metadata": {},
     "output_type": "execute_result"
    }
   ],
   "source": [
    "a += 1\n",
    "a"
   ]
  },
  {
   "cell_type": "code",
   "execution_count": 45,
   "id": "b3a4961b",
   "metadata": {},
   "outputs": [
    {
     "data": {
      "text/plain": [
       "tensor([2., 2., 2., 2., 2.], dtype=torch.float64)"
      ]
     },
     "execution_count": 45,
     "metadata": {},
     "output_type": "execute_result"
    }
   ],
   "source": [
    "b"
   ]
  },
  {
   "cell_type": "markdown",
   "id": "137ea4b4",
   "metadata": {},
   "source": [
    "## NB! b was changed too! it happened due to the tensor was created under CPU, not GPU"
   ]
  },
  {
   "cell_type": "code",
   "execution_count": null,
   "id": "f88c9d71",
   "metadata": {},
   "outputs": [],
   "source": []
  },
  {
   "cell_type": "markdown",
   "id": "df358663",
   "metadata": {},
   "source": [
    "## FOR CUDA VERSION:"
   ]
  },
  {
   "cell_type": "code",
   "execution_count": 47,
   "id": "2d5faee8",
   "metadata": {},
   "outputs": [],
   "source": [
    "if torch.cuda.is_available():\n",
    "    device = torch.device(\"cuda\")\n",
    "    x = torch.ones(5, device=device)\n",
    "    y = torch.ones(5)\n",
    "    y = y.to(device)\n",
    "    z = x + y\n",
    "#     z.numpy()  # this will not work due to numpy can only handle CPU tensors\n",
    "    z = z.to(\"cpu\")\n",
    "    z.numpy()  # this shall work"
   ]
  },
  {
   "cell_type": "code",
   "execution_count": null,
   "id": "3823aa6d",
   "metadata": {},
   "outputs": [],
   "source": []
  },
  {
   "cell_type": "code",
   "execution_count": null,
   "id": "2afd1965",
   "metadata": {},
   "outputs": [],
   "source": []
  }
 ],
 "metadata": {
  "kernelspec": {
   "display_name": "Python 3 (ipykernel)",
   "language": "python",
   "name": "python3"
  },
  "language_info": {
   "codemirror_mode": {
    "name": "ipython",
    "version": 3
   },
   "file_extension": ".py",
   "mimetype": "text/x-python",
   "name": "python",
   "nbconvert_exporter": "python",
   "pygments_lexer": "ipython3",
   "version": "3.9.15"
  }
 },
 "nbformat": 4,
 "nbformat_minor": 5
}
