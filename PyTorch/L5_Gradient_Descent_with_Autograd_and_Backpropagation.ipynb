{
 "cells": [
  {
   "cell_type": "markdown",
   "id": "10b90de4",
   "metadata": {},
   "source": [
    "# PyTorch Tutorial 05 - Gradient Descent with Autograd and Backpropagation"
   ]
  },
  {
   "cell_type": "markdown",
   "id": "847e58f0",
   "metadata": {},
   "source": [
    "https://www.youtube.com/watch?v=E-I2DNVzQLg&list=PLqnslRFeH2UrcDBWF5mfPGpqQDSta6VK4&index=5"
   ]
  },
  {
   "cell_type": "code",
   "execution_count": null,
   "id": "981062c6",
   "metadata": {},
   "outputs": [],
   "source": []
  },
  {
   "cell_type": "code",
   "execution_count": 1,
   "id": "3d7a19fd",
   "metadata": {},
   "outputs": [],
   "source": [
    "import numpy as np"
   ]
  },
  {
   "cell_type": "code",
   "execution_count": 2,
   "id": "0b1cf8e9",
   "metadata": {},
   "outputs": [],
   "source": [
    "# f = w * x  # linear fuction\n",
    "# f = 2 * x  # our particular case with w = 2"
   ]
  },
  {
   "cell_type": "code",
   "execution_count": 3,
   "id": "1f3e3e4f",
   "metadata": {},
   "outputs": [],
   "source": [
    "# setting training set\n",
    "\n",
    "X = np.array([1, 2, 3, 4], dtype=np.float32)\n",
    "Y = np.array([2, 4, 6, 8], dtype=np.float32)"
   ]
  },
  {
   "cell_type": "code",
   "execution_count": 4,
   "id": "b2b655b9",
   "metadata": {},
   "outputs": [],
   "source": [
    "# setting weights (one in our case)\n",
    "\n",
    "w = 0."
   ]
  },
  {
   "cell_type": "code",
   "execution_count": 5,
   "id": "eae7108e",
   "metadata": {},
   "outputs": [],
   "source": [
    "# model prediction\n",
    "\n",
    "def forward(x):\n",
    "    return w * x"
   ]
  },
  {
   "cell_type": "code",
   "execution_count": 6,
   "id": "eab4cf12",
   "metadata": {},
   "outputs": [],
   "source": [
    "# loss = MSE\n",
    "\n",
    "def loss(y, y_predicted):\n",
    "    return ((y_predicted - y)**2).mean()"
   ]
  },
  {
   "cell_type": "code",
   "execution_count": 7,
   "id": "f880fa51",
   "metadata": {},
   "outputs": [],
   "source": [
    "# gradient\n",
    "# MSE = 1/N * (w*x - y)**2\n",
    "# dMSE/dw = 1/N * 2x * (w*x - y)\n",
    "\n",
    "def gradient(x, y, y_predicted):\n",
    "    return np.dot(2*x, y_predicted-y).mean()  # dMSE/dw = 1/N * 2x * (w*x - y)"
   ]
  },
  {
   "cell_type": "code",
   "execution_count": 8,
   "id": "f3ad89de",
   "metadata": {},
   "outputs": [
    {
     "name": "stdout",
     "output_type": "stream",
     "text": [
      "prediction before training: f(5) = 0.000\n"
     ]
    }
   ],
   "source": [
    "print(f'prediction before training: f(5) = {forward(5):.3f}')"
   ]
  },
  {
   "cell_type": "code",
   "execution_count": 9,
   "id": "1d9b821b",
   "metadata": {},
   "outputs": [
    {
     "name": "stdout",
     "output_type": "stream",
     "text": [
      "epoch 1: w = 1.200, grad = -120.000, loss = 30.00000000\n",
      "epoch 2: w = 1.680, grad = -48.000, loss = 4.79999924\n",
      "epoch 3: w = 1.872, grad = -19.200, loss = 0.76800019\n",
      "epoch 4: w = 1.949, grad = -7.680, loss = 0.12288000\n",
      "epoch 5: w = 1.980, grad = -3.072, loss = 0.01966083\n",
      "epoch 6: w = 1.992, grad = -1.229, loss = 0.00314574\n",
      "epoch 7: w = 1.997, grad = -0.492, loss = 0.00050331\n",
      "epoch 8: w = 1.999, grad = -0.197, loss = 0.00008053\n",
      "epoch 9: w = 1.999, grad = -0.079, loss = 0.00001288\n",
      "epoch 10: w = 2.000, grad = -0.031, loss = 0.00000206\n",
      "epoch 11: w = 2.000, grad = -0.013, loss = 0.00000033\n",
      "epoch 12: w = 2.000, grad = -0.005, loss = 0.00000005\n",
      "epoch 13: w = 2.000, grad = -0.002, loss = 0.00000001\n",
      "epoch 14: w = 2.000, grad = -0.001, loss = 0.00000000\n",
      "epoch 15: w = 2.000, grad = -0.000, loss = 0.00000000\n",
      "epoch 16: w = 2.000, grad = -0.000, loss = 0.00000000\n",
      "epoch 17: w = 2.000, grad = -0.000, loss = 0.00000000\n",
      "epoch 18: w = 2.000, grad = -0.000, loss = 0.00000000\n",
      "epoch 19: w = 2.000, grad = -0.000, loss = 0.00000000\n",
      "epoch 20: w = 2.000, grad = -0.000, loss = 0.00000000\n"
     ]
    }
   ],
   "source": [
    "# training\n",
    "\n",
    "learning_rate = 0.01\n",
    "n_iters = 20\n",
    "\n",
    "for epoch in range(n_iters):\n",
    "    # prediction = forward pass\n",
    "    y_pred = forward(X)\n",
    "    \n",
    "    # loss\n",
    "    L = loss(Y, y_pred)\n",
    "    \n",
    "    # gradients\n",
    "    dLdw = gradient(X, Y, y_pred)\n",
    "    \n",
    "    # update weights\n",
    "    w -= learning_rate * dLdw\n",
    "    \n",
    "    if epoch % 1 == 0:\n",
    "        print(f'epoch {epoch+1}: w = {w:.3f}, grad = {dLdw:.3f}, loss = {L:.8f}')"
   ]
  },
  {
   "cell_type": "code",
   "execution_count": 10,
   "id": "55346993",
   "metadata": {},
   "outputs": [
    {
     "name": "stdout",
     "output_type": "stream",
     "text": [
      "prediction after training: f(5) = 10.000\n"
     ]
    }
   ],
   "source": [
    "print(f'prediction after training: f(5) = {forward(5):.3f}')"
   ]
  },
  {
   "cell_type": "code",
   "execution_count": null,
   "id": "a3e4b5cd",
   "metadata": {},
   "outputs": [],
   "source": []
  },
  {
   "cell_type": "code",
   "execution_count": null,
   "id": "8ac8929c",
   "metadata": {},
   "outputs": [],
   "source": []
  },
  {
   "cell_type": "code",
   "execution_count": null,
   "id": "a0248898",
   "metadata": {},
   "outputs": [],
   "source": []
  },
  {
   "cell_type": "code",
   "execution_count": 11,
   "id": "5e4da0ab",
   "metadata": {},
   "outputs": [],
   "source": [
    "import torch"
   ]
  },
  {
   "cell_type": "code",
   "execution_count": 12,
   "id": "97f844b9",
   "metadata": {},
   "outputs": [],
   "source": [
    "# setting training set\n",
    "\n",
    "X = torch.tensor([1, 2, 3, 4], dtype=torch.float32)\n",
    "Y = torch.tensor([2, 4, 6, 8], dtype=torch.float32)"
   ]
  },
  {
   "cell_type": "code",
   "execution_count": 13,
   "id": "03c01c38",
   "metadata": {},
   "outputs": [],
   "source": [
    "# setting weights (one in our case)\n",
    "\n",
    "w = torch.tensor(5., dtype=torch.float32, requires_grad=True)"
   ]
  },
  {
   "cell_type": "code",
   "execution_count": 14,
   "id": "f2ad2279",
   "metadata": {},
   "outputs": [],
   "source": [
    "# model prediction\n",
    "\n",
    "def forward(x):\n",
    "    return w * x"
   ]
  },
  {
   "cell_type": "code",
   "execution_count": 15,
   "id": "964d2802",
   "metadata": {},
   "outputs": [],
   "source": [
    "# loss = MSE\n",
    "\n",
    "def loss(y, y_predicted):\n",
    "    return ((y_predicted - y)**2).mean()"
   ]
  },
  {
   "cell_type": "code",
   "execution_count": 16,
   "id": "d20bae8c",
   "metadata": {},
   "outputs": [
    {
     "name": "stdout",
     "output_type": "stream",
     "text": [
      "prediction before training: f(5) = 25.000\n"
     ]
    }
   ],
   "source": [
    "print(f'prediction before training: f(5) = {forward(5):.3f}')"
   ]
  },
  {
   "cell_type": "code",
   "execution_count": 17,
   "id": "72e2c2f0",
   "metadata": {},
   "outputs": [
    {
     "name": "stdout",
     "output_type": "stream",
     "text": [
      "epoch 1: w = 4.550, grad = 45.000, loss = 67.50000000\n",
      "epoch 11: w = 2.502, grad = 8.859, loss = 2.61626792\n",
      "epoch 21: w = 2.099, grad = 1.744, loss = 0.10140543\n",
      "epoch 31: w = 2.019, grad = 0.343, loss = 0.00393049\n",
      "epoch 41: w = 2.004, grad = 0.068, loss = 0.00015233\n",
      "epoch 51: w = 2.001, grad = 0.013, loss = 0.00000590\n",
      "epoch 61: w = 2.000, grad = 0.003, loss = 0.00000023\n",
      "epoch 71: w = 2.000, grad = 0.001, loss = 0.00000001\n",
      "epoch 81: w = 2.000, grad = 0.000, loss = 0.00000000\n",
      "epoch 91: w = 2.000, grad = 0.000, loss = 0.00000000\n"
     ]
    }
   ],
   "source": [
    "# training\n",
    "\n",
    "learning_rate = 0.01\n",
    "n_iters = 100\n",
    "\n",
    "for epoch in range(n_iters):\n",
    "    # prediction = forward pass\n",
    "    y_pred = forward(X)\n",
    "    \n",
    "    # loss\n",
    "    L = loss(Y, y_pred)\n",
    "    \n",
    "    # gradients computation = backward pass\n",
    "    L.backward()\n",
    "    \n",
    "    # update weights\n",
    "    with torch.no_grad():\n",
    "        w -= learning_rate * w.grad\n",
    "        grad = w.grad.item()  # this line is not essential; it is just for statistics collection\n",
    "        \n",
    "    # zeroing gradients\n",
    "    w.grad.zero_()\n",
    "    \n",
    "    if epoch % 10 == 0:\n",
    "        print(f'epoch {epoch+1}: w = {w:.3f}, grad = {grad:.3f}, loss = {L:.8f}')"
   ]
  },
  {
   "cell_type": "code",
   "execution_count": 18,
   "id": "ca0bbdab",
   "metadata": {},
   "outputs": [
    {
     "name": "stdout",
     "output_type": "stream",
     "text": [
      "prediction after training: f(5) = 10.000\n"
     ]
    }
   ],
   "source": [
    "print(f'prediction after training: f(5) = {forward(5):.3f}')"
   ]
  },
  {
   "cell_type": "code",
   "execution_count": null,
   "id": "df48c335",
   "metadata": {},
   "outputs": [],
   "source": []
  },
  {
   "cell_type": "code",
   "execution_count": null,
   "id": "53305f28",
   "metadata": {},
   "outputs": [],
   "source": []
  },
  {
   "cell_type": "code",
   "execution_count": null,
   "id": "bc7c6d20",
   "metadata": {},
   "outputs": [],
   "source": []
  }
 ],
 "metadata": {
  "kernelspec": {
   "display_name": "Python 3 (ipykernel)",
   "language": "python",
   "name": "python3"
  },
  "language_info": {
   "codemirror_mode": {
    "name": "ipython",
    "version": 3
   },
   "file_extension": ".py",
   "mimetype": "text/x-python",
   "name": "python",
   "nbconvert_exporter": "python",
   "pygments_lexer": "ipython3",
   "version": "3.9.15"
  }
 },
 "nbformat": 4,
 "nbformat_minor": 5
}
