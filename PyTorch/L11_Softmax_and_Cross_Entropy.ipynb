{
 "cells": [
  {
   "cell_type": "markdown",
   "id": "a8960e1d",
   "metadata": {},
   "source": [
    "# PyTorch Tutorial 11 - Softmax and Cross Entropy"
   ]
  },
  {
   "cell_type": "markdown",
   "id": "c3c7e724",
   "metadata": {},
   "source": [
    "https://www.youtube.com/watch?v=7q7E91pHoW4&list=PLqnslRFeH2UrcDBWF5mfPGpqQDSta6VK4&index=11"
   ]
  },
  {
   "cell_type": "code",
   "execution_count": null,
   "id": "e67472f1",
   "metadata": {},
   "outputs": [],
   "source": []
  },
  {
   "cell_type": "code",
   "execution_count": 1,
   "id": "86d954b0",
   "metadata": {},
   "outputs": [],
   "source": [
    "import torch\n",
    "import torch.nn as nn\n",
    "import numpy as np"
   ]
  },
  {
   "cell_type": "markdown",
   "id": "1725cdc4",
   "metadata": {},
   "source": [
    "# softmax"
   ]
  },
  {
   "cell_type": "markdown",
   "id": "e039b2a4",
   "metadata": {},
   "source": [
    "### handwritten softmax function"
   ]
  },
  {
   "cell_type": "code",
   "execution_count": 2,
   "id": "efcba37d",
   "metadata": {},
   "outputs": [],
   "source": [
    "def softmax(x):\n",
    "    return np.exp(x) / np.sum(np.exp(x), axis=0)"
   ]
  },
  {
   "cell_type": "code",
   "execution_count": 3,
   "id": "ff8f4f82",
   "metadata": {},
   "outputs": [
    {
     "name": "stdout",
     "output_type": "stream",
     "text": [
      "softmax numpy: [0.65900114 0.24243297 0.09856589]\n"
     ]
    }
   ],
   "source": [
    "x = np.array([2., 1, 0.1])\n",
    "outputs = softmax(x)\n",
    "print('softmax numpy:', outputs)"
   ]
  },
  {
   "cell_type": "code",
   "execution_count": 4,
   "id": "4c8b2189",
   "metadata": {},
   "outputs": [
    {
     "data": {
      "text/plain": [
       "1.0"
      ]
     },
     "execution_count": 4,
     "metadata": {},
     "output_type": "execute_result"
    }
   ],
   "source": [
    "sum(outputs)"
   ]
  },
  {
   "cell_type": "markdown",
   "id": "ac0db7c2",
   "metadata": {},
   "source": [
    "### built-in softmax from torch"
   ]
  },
  {
   "cell_type": "code",
   "execution_count": 5,
   "id": "c409806e",
   "metadata": {},
   "outputs": [
    {
     "name": "stdout",
     "output_type": "stream",
     "text": [
      "softmax torch: tensor([0.6590, 0.2424, 0.0986])\n"
     ]
    }
   ],
   "source": [
    "x = torch.tensor([2., 1, 0.1])\n",
    "outputs = torch.softmax(x, dim=0)\n",
    "print('softmax torch:', outputs)"
   ]
  },
  {
   "cell_type": "code",
   "execution_count": 6,
   "id": "b45f6525",
   "metadata": {},
   "outputs": [
    {
     "data": {
      "text/plain": [
       "tensor(1.0000)"
      ]
     },
     "execution_count": 6,
     "metadata": {},
     "output_type": "execute_result"
    }
   ],
   "source": [
    "sum(outputs)"
   ]
  },
  {
   "cell_type": "code",
   "execution_count": null,
   "id": "d9e55c63",
   "metadata": {},
   "outputs": [],
   "source": []
  },
  {
   "cell_type": "markdown",
   "id": "ce3e5ae6",
   "metadata": {},
   "source": [
    "# cross entropy"
   ]
  },
  {
   "cell_type": "markdown",
   "id": "a408784d",
   "metadata": {},
   "source": [
    "### handwritten cross entropy function"
   ]
  },
  {
   "cell_type": "code",
   "execution_count": 7,
   "id": "f39c0db9",
   "metadata": {},
   "outputs": [],
   "source": [
    "def cross_entropy(actual, predicted):\n",
    "    loss = -np.sum(actual * np.log(predicted))\n",
    "    return loss"
   ]
  },
  {
   "cell_type": "code",
   "execution_count": 8,
   "id": "dd1fb462",
   "metadata": {},
   "outputs": [],
   "source": [
    "# Y must be one hot encoded\n",
    "# if class 0: [1, 0, 0]\n",
    "# if class 1: [0, 1, 0]\n",
    "# if class 2: [0, 0, 1]\n",
    "\n",
    "Y = np.array([1, 0, 0])"
   ]
  },
  {
   "cell_type": "code",
   "execution_count": 9,
   "id": "75035e6e",
   "metadata": {},
   "outputs": [],
   "source": [
    "# Y_pred probabilities\n",
    "\n",
    "Y_pred_good = np.array([0.7, 0.2, 0.1])\n",
    "Y_pred_bad = np.array([0.1, 0.3, 0.6])"
   ]
  },
  {
   "cell_type": "code",
   "execution_count": 10,
   "id": "c103fdbf",
   "metadata": {},
   "outputs": [],
   "source": [
    "l1 = cross_entropy(Y, Y_pred_good)\n",
    "l2 = cross_entropy(Y, Y_pred_bad)"
   ]
  },
  {
   "cell_type": "code",
   "execution_count": 11,
   "id": "fca86253",
   "metadata": {},
   "outputs": [
    {
     "name": "stdout",
     "output_type": "stream",
     "text": [
      "loss 1 numpy: 0.3567\n",
      "loss 2 numpy: 2.3026\n"
     ]
    }
   ],
   "source": [
    "print(f'loss 1 numpy: {l1:.4f}')\n",
    "print(f'loss 2 numpy: {l2:.4f}')"
   ]
  },
  {
   "cell_type": "markdown",
   "id": "d07bcba6",
   "metadata": {},
   "source": [
    "### built-in cross entropy from torch, 1 sample"
   ]
  },
  {
   "cell_type": "code",
   "execution_count": 12,
   "id": "101bfcbc",
   "metadata": {},
   "outputs": [],
   "source": [
    "loss = nn.CrossEntropyLoss()"
   ]
  },
  {
   "cell_type": "code",
   "execution_count": 13,
   "id": "5e3d5e67",
   "metadata": {},
   "outputs": [],
   "source": [
    "# Y must be NOT one hot encoded\n",
    "\n",
    "# 1 sample\n",
    "Y = torch.tensor([0])"
   ]
  },
  {
   "cell_type": "code",
   "execution_count": 14,
   "id": "37b9b6fd",
   "metadata": {},
   "outputs": [],
   "source": [
    "# Y_pred probabilities\n",
    "# n_samples * n_clasees = 1 * 3\n",
    "\n",
    "Y_pred_good = torch.tensor([[2., 1, 0.1]])  # the dimension is an array of arrays; softmax shall not be applied\n",
    "Y_pred_bad = torch.tensor([[0.5, 2, 0.3]])"
   ]
  },
  {
   "cell_type": "code",
   "execution_count": 15,
   "id": "fe8616e6",
   "metadata": {},
   "outputs": [],
   "source": [
    "l1 = loss(Y_pred_good, Y)\n",
    "l2 = loss(Y_pred_bad, Y)"
   ]
  },
  {
   "cell_type": "code",
   "execution_count": 16,
   "id": "3b245736",
   "metadata": {},
   "outputs": [
    {
     "name": "stdout",
     "output_type": "stream",
     "text": [
      "loss 1 torch: 0.4170299470424652\n",
      "loss 2 torch: 1.840616226196289\n"
     ]
    }
   ],
   "source": [
    "print(f'loss 1 torch: {l1.item()}')\n",
    "print(f'loss 2 torch: {l2.item()}')"
   ]
  },
  {
   "cell_type": "markdown",
   "id": "41c9ae4a",
   "metadata": {},
   "source": [
    "##### predictions"
   ]
  },
  {
   "cell_type": "code",
   "execution_count": 17,
   "id": "4c93615d",
   "metadata": {},
   "outputs": [
    {
     "data": {
      "text/plain": [
       "torch.return_types.max(\n",
       "values=tensor([2.]),\n",
       "indices=tensor([0]))"
      ]
     },
     "execution_count": 17,
     "metadata": {},
     "output_type": "execute_result"
    }
   ],
   "source": [
    "torch.max(Y_pred_good, axis=1)"
   ]
  },
  {
   "cell_type": "code",
   "execution_count": 18,
   "id": "9204554a",
   "metadata": {},
   "outputs": [
    {
     "data": {
      "text/plain": [
       "(tensor([0]), tensor([1]))"
      ]
     },
     "execution_count": 18,
     "metadata": {},
     "output_type": "execute_result"
    }
   ],
   "source": [
    "_, predictions1 = torch.max(Y_pred_good, axis=1)\n",
    "_, predictions2 = torch.max(Y_pred_bad, axis=1)\n",
    "\n",
    "predictions1, predictions2"
   ]
  },
  {
   "cell_type": "markdown",
   "id": "a2869588",
   "metadata": {},
   "source": [
    "### built-in cross entropy from torch, 3 samples"
   ]
  },
  {
   "cell_type": "code",
   "execution_count": 19,
   "id": "56b70d79",
   "metadata": {},
   "outputs": [],
   "source": [
    "loss = nn.CrossEntropyLoss()"
   ]
  },
  {
   "cell_type": "code",
   "execution_count": 20,
   "id": "3f173b48",
   "metadata": {},
   "outputs": [],
   "source": [
    "# Y must be NOT one hot encoded\n",
    "\n",
    "# 3 samples\n",
    "Y = torch.tensor([2, 0, 1])"
   ]
  },
  {
   "cell_type": "code",
   "execution_count": 21,
   "id": "2e5af171",
   "metadata": {},
   "outputs": [],
   "source": [
    "# Y_pred probabilities\n",
    "# n_samples * n_clasees = 3 * 3\n",
    "\n",
    "Y_pred_good = torch.tensor([[1., 0.1, 2.1], [2., 1, 0.1], [1., 2, 0.1]])  # the dimension is an array of arrays; \n",
    "                                                                          # softmax shall not be applied\n",
    "Y_pred_bad = torch.tensor([[0.5, 2, 0.3], [1.5, 0.2, 0.3], [1.5, 0.2, 0.3]])"
   ]
  },
  {
   "cell_type": "code",
   "execution_count": 22,
   "id": "d2753a7a",
   "metadata": {},
   "outputs": [],
   "source": [
    "l1 = loss(Y_pred_good, Y)\n",
    "l2 = loss(Y_pred_bad, Y)"
   ]
  },
  {
   "cell_type": "code",
   "execution_count": 23,
   "id": "201fbf07",
   "metadata": {},
   "outputs": [
    {
     "name": "stdout",
     "output_type": "stream",
     "text": [
      "loss 1 torch: 0.40603378415107727\n",
      "loss 2 torch: 1.415835976600647\n"
     ]
    }
   ],
   "source": [
    "print(f'loss 1 torch: {l1.item()}')\n",
    "print(f'loss 2 torch: {l2.item()}')"
   ]
  },
  {
   "cell_type": "markdown",
   "id": "b4915f32",
   "metadata": {},
   "source": [
    "## nn.CrossEntropyLoss applies nn.LogSoftmax + nn.NLLLoss    (Negative Log Likelihood Loss)    -----> No Softmax in last layer!\n",
    "\n",
    "## Y has class labels, not One-Hot!\n",
    "## Y_pred has raw scores (logits), no Softmax!"
   ]
  },
  {
   "cell_type": "code",
   "execution_count": null,
   "id": "08c8adb5",
   "metadata": {},
   "outputs": [],
   "source": []
  },
  {
   "cell_type": "code",
   "execution_count": null,
   "id": "58a61d4d",
   "metadata": {},
   "outputs": [],
   "source": []
  },
  {
   "cell_type": "markdown",
   "id": "e2be5057",
   "metadata": {},
   "source": [
    "## NN example - binary classification"
   ]
  },
  {
   "cell_type": "code",
   "execution_count": 24,
   "id": "a62040ac",
   "metadata": {},
   "outputs": [],
   "source": [
    "class NeuralNet1(nn.Module):\n",
    "    def __init__(self, input_size, hidden_size):\n",
    "        super(NeuralNet1, self).__init__()\n",
    "        self.linear1 = nn.Linear(input_size, hidden_size)\n",
    "        self.relu = nn.ReLU()\n",
    "        self.linear2 = nn.Linear(hidden_size, 1)  # 1 feature out - binary classification!!!\n",
    "        \n",
    "    def forward(self, x):\n",
    "        out = self.linear1(x)\n",
    "        out = self.relu(out)\n",
    "        out = self.linear2(out)\n",
    "        # sigmoid at the end\n",
    "        y_pred = torch.sigmoid(out)\n",
    "        return y_pred"
   ]
  },
  {
   "cell_type": "code",
   "execution_count": 25,
   "id": "125080e5",
   "metadata": {},
   "outputs": [],
   "source": [
    "model = NeuralNet1(input_size=28*28, hidden_size=5)\n",
    "criterion = nn.BCELoss()"
   ]
  },
  {
   "cell_type": "markdown",
   "id": "98aef76b",
   "metadata": {},
   "source": [
    "## NN example - multi-class classification"
   ]
  },
  {
   "cell_type": "code",
   "execution_count": 26,
   "id": "6d5c0f2c",
   "metadata": {},
   "outputs": [],
   "source": [
    "class NeuralNet2(nn.Module):\n",
    "    def __init__(self, input_size, hidden_size, num_classes):\n",
    "        super(NeuralNet2, self).__init__()\n",
    "        self.linear1 = nn.Linear(input_size, hidden_size)\n",
    "        self.relu = nn.ReLU()\n",
    "        self.linear2 = nn.Linear(hidden_size, num_classes)  # some feature out - multi-class classification!!!\n",
    "        \n",
    "    def forward(self, x):\n",
    "        out = self.linear1(x)\n",
    "        out = self.relu(out)\n",
    "        out = self.linear2(out)\n",
    "        # no softmax at the end\n",
    "        return out"
   ]
  },
  {
   "cell_type": "code",
   "execution_count": 27,
   "id": "684e8854",
   "metadata": {},
   "outputs": [],
   "source": [
    "model = NeuralNet2(input_size=28*28, hidden_size=5, num_classes=3)\n",
    "criterion = nn.CrossEntropyLoss()  # (applies Softmax)"
   ]
  },
  {
   "cell_type": "code",
   "execution_count": null,
   "id": "78388df3",
   "metadata": {},
   "outputs": [],
   "source": []
  },
  {
   "cell_type": "code",
   "execution_count": null,
   "id": "2ca164e1",
   "metadata": {},
   "outputs": [],
   "source": []
  }
 ],
 "metadata": {
  "kernelspec": {
   "display_name": "Python 3 (ipykernel)",
   "language": "python",
   "name": "python3"
  },
  "language_info": {
   "codemirror_mode": {
    "name": "ipython",
    "version": 3
   },
   "file_extension": ".py",
   "mimetype": "text/x-python",
   "name": "python",
   "nbconvert_exporter": "python",
   "pygments_lexer": "ipython3",
   "version": "3.9.15"
  }
 },
 "nbformat": 4,
 "nbformat_minor": 5
}
