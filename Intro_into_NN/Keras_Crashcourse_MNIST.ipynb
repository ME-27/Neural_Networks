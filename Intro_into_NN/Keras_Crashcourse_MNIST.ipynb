{
 "cells": [
  {
   "cell_type": "markdown",
   "id": "ce200348",
   "metadata": {},
   "source": [
    "# Keras Crashcourse, MNIST Handwritten Digits Classification"
   ]
  },
  {
   "cell_type": "code",
   "execution_count": null,
   "id": "3fc83b42",
   "metadata": {},
   "outputs": [],
   "source": []
  },
  {
   "cell_type": "code",
   "execution_count": 1,
   "id": "23ad9845",
   "metadata": {},
   "outputs": [],
   "source": [
    "import numpy as np\n",
    "import keras\n",
    "from keras.datasets import mnist\n",
    "# from keras.datasets import boston_housing, fashion_mnist\n",
    "import matplotlib.pyplot as plt"
   ]
  },
  {
   "cell_type": "markdown",
   "id": "270c3fbb",
   "metadata": {},
   "source": [
    "## mnist"
   ]
  },
  {
   "cell_type": "code",
   "execution_count": 2,
   "id": "4eb728e5",
   "metadata": {},
   "outputs": [],
   "source": [
    "(train_images, train_labels), (test_images, test_labels) = mnist.load_data()"
   ]
  },
  {
   "cell_type": "code",
   "execution_count": 3,
   "id": "413efde2",
   "metadata": {},
   "outputs": [
    {
     "data": {
      "text/plain": [
       "((60000, 28, 28), (60000,), (10000, 28, 28), (10000,))"
      ]
     },
     "execution_count": 3,
     "metadata": {},
     "output_type": "execute_result"
    }
   ],
   "source": [
    "train_images.shape, train_labels.shape, test_images.shape, test_labels.shape"
   ]
  },
  {
   "cell_type": "code",
   "execution_count": 4,
   "id": "5cf12559",
   "metadata": {},
   "outputs": [
    {
     "data": {
      "image/png": "[encoded data removed]",
      "text/plain": [
       "<Figure size 640x480 with 1 Axes>"
      ]
     },
     "metadata": {},
     "output_type": "display_data"
    },
    {
     "name": "stdout",
     "output_type": "stream",
     "text": [
      "9\n"
     ]
    }
   ],
   "source": [
    "n = 2501\n",
    "# plt.imshow(train_images[n,:,:])\n",
    "plt.imshow(train_images[n])\n",
    "plt.show()\n",
    "print(train_labels[n])"
   ]
  },
  {
   "cell_type": "code",
   "execution_count": 5,
   "id": "96f6278b",
   "metadata": {},
   "outputs": [
    {
     "data": {
      "text/plain": [
       "array([5, 0, 4, 1, 9, 2, 1, 3, 1, 4, 3, 5], dtype=uint8)"
      ]
     },
     "execution_count": 5,
     "metadata": {},
     "output_type": "execute_result"
    }
   ],
   "source": [
    "train_labels[:12]"
   ]
  },
  {
   "cell_type": "markdown",
   "id": "3230e2ae",
   "metadata": {},
   "source": [
    "## DATA PREPROCESSING"
   ]
  },
  {
   "cell_type": "markdown",
   "id": "8e96def6",
   "metadata": {},
   "source": [
    "## scaling"
   ]
  },
  {
   "cell_type": "code",
   "execution_count": 6,
   "id": "b6e12535",
   "metadata": {},
   "outputs": [
    {
     "data": {
      "text/plain": [
       "array([[  0,   0,   0,   0,   0,   0,   0,   0,   0,   0,   0,   0,   0,\n",
       "          0,  45, 186, 253, 253, 150,  27,   0,   0,   0,   0,   0,   0,\n",
       "          0,   0],\n",
       "       [  0,   0,   0,   0,   0,   0,   0,   0,   0,   0,   0,   0,   0,\n",
       "          0,   0,  16,  93, 252, 253, 187,   0,   0,   0,   0,   0,   0,\n",
       "          0,   0]], dtype=uint8)"
      ]
     },
     "execution_count": 6,
     "metadata": {},
     "output_type": "execute_result"
    }
   ],
   "source": [
    "train_images[0, 15:17]  # before normalization"
   ]
  },
  {
   "cell_type": "code",
   "execution_count": 7,
   "id": "972d4416",
   "metadata": {},
   "outputs": [],
   "source": [
    "# scaling of the images\n",
    "train_images = (train_images / 127) - 1\n",
    "test_images = (test_images / 127) - 1"
   ]
  },
  {
   "cell_type": "code",
   "execution_count": 8,
   "id": "a2d20c0b",
   "metadata": {},
   "outputs": [
    {
     "data": {
      "text/plain": [
       "array([[-1.        , -1.        , -1.        , -1.        , -1.        ,\n",
       "        -1.        , -1.        , -1.        , -1.        , -1.        ,\n",
       "        -1.        , -1.        , -1.        , -1.        , -0.64566929,\n",
       "         0.46456693,  0.99212598,  0.99212598,  0.18110236, -0.78740157,\n",
       "        -1.        , -1.        , -1.        , -1.        , -1.        ,\n",
       "        -1.        , -1.        , -1.        ],\n",
       "       [-1.        , -1.        , -1.        , -1.        , -1.        ,\n",
       "        -1.        , -1.        , -1.        , -1.        , -1.        ,\n",
       "        -1.        , -1.        , -1.        , -1.        , -1.        ,\n",
       "        -0.87401575, -0.26771654,  0.98425197,  0.99212598,  0.47244094,\n",
       "        -1.        , -1.        , -1.        , -1.        , -1.        ,\n",
       "        -1.        , -1.        , -1.        ]])"
      ]
     },
     "execution_count": 8,
     "metadata": {},
     "output_type": "execute_result"
    }
   ],
   "source": [
    "train_images[0, 15:17]  # after normalization"
   ]
  },
  {
   "cell_type": "markdown",
   "id": "6c65cef6",
   "metadata": {},
   "source": [
    "## flattening"
   ]
  },
  {
   "cell_type": "code",
   "execution_count": 9,
   "id": "e025b94c",
   "metadata": {},
   "outputs": [],
   "source": [
    "# flattening images\n",
    "train_images = train_images.reshape((-1, 784))  # 28 * 28 = 784\n",
    "test_images = test_images.reshape((-1, 784))"
   ]
  },
  {
   "cell_type": "code",
   "execution_count": 10,
   "id": "de905906",
   "metadata": {},
   "outputs": [
    {
     "data": {
      "text/plain": [
       "((60000, 784), (10000, 784))"
      ]
     },
     "execution_count": 10,
     "metadata": {},
     "output_type": "execute_result"
    }
   ],
   "source": [
    "train_images.shape, test_images.shape"
   ]
  },
  {
   "cell_type": "code",
   "execution_count": 11,
   "id": "aaeb375b",
   "metadata": {},
   "outputs": [
    {
     "data": {
      "text/plain": [
       "array([ 0.99212598,  0.49606299, -0.98425197, -1.        , -1.        ,\n",
       "       -1.        , -1.        , -1.        , -1.        , -1.        ,\n",
       "       -1.        , -1.        , -1.        , -1.        , -1.        ,\n",
       "       -1.        , -1.        , -1.        , -1.        , -1.        ])"
      ]
     },
     "execution_count": 11,
     "metadata": {},
     "output_type": "execute_result"
    }
   ],
   "source": [
    "train_images[0, 320:340]  # after flattening"
   ]
  },
  {
   "cell_type": "code",
   "execution_count": null,
   "id": "02f1df7e",
   "metadata": {},
   "outputs": [],
   "source": []
  },
  {
   "cell_type": "code",
   "execution_count": 12,
   "id": "9632220e",
   "metadata": {},
   "outputs": [
    {
     "data": {
      "text/plain": [
       "'tensorflow'"
      ]
     },
     "execution_count": 12,
     "metadata": {},
     "output_type": "execute_result"
    }
   ],
   "source": [
    "keras.backend.backend()"
   ]
  },
  {
   "cell_type": "code",
   "execution_count": null,
   "id": "93c5621c",
   "metadata": {},
   "outputs": [],
   "source": []
  },
  {
   "cell_type": "markdown",
   "id": "91463945",
   "metadata": {},
   "source": [
    "## model assembling"
   ]
  },
  {
   "cell_type": "code",
   "execution_count": 13,
   "id": "1a59b5f4",
   "metadata": {},
   "outputs": [],
   "source": [
    "from keras.models import Sequential\n",
    "from keras.layers import Dense"
   ]
  },
  {
   "cell_type": "markdown",
   "id": "f5e6e23d",
   "metadata": {},
   "source": [
    "### way #1"
   ]
  },
  {
   "cell_type": "code",
   "execution_count": 14,
   "id": "af5f3028",
   "metadata": {},
   "outputs": [],
   "source": [
    "model_1 = Sequential(name='model_one')  # the NN will have a stack form where a signal goes from one layer to another\n",
    "\n",
    "# first hidden layer\n",
    "model_1.add(Dense(units=128,  # dense (neurons are all connected) layer of 128 neurons with ReLU activation function\n",
    "                              # 128 was chosen randomly, but it is advised to use a power of 2 number\n",
    "                 activation='relu', \n",
    "                 input_shape=(784,)))  # shape of input layer\n",
    "\n",
    "# adding hidden layers in cycle, just to show such possibility\n",
    "for k in range(2):  # 0, 1\n",
    "    model_1.add(Dense(units=10+(10-k)*10, activation='tanh'))  # units=110, 100\n",
    "                                                               # 10+(10-k)*10 is just a randomly invented algorythm,\n",
    "                                                               # there is no profound logic behind it\n",
    "\n",
    "# output layer    \n",
    "model_1.add(Dense(10, activation='softmax'))  # output layer of 10 neurons (=number of classes) with softmax activation function"
   ]
  },
  {
   "cell_type": "code",
   "execution_count": 15,
   "id": "7878d2e3",
   "metadata": {},
   "outputs": [],
   "source": [
    "# compiling function with optimizer, loss function and metrics\n",
    "model_1.compile(\n",
    "  optimizer='adam',\n",
    "  loss=keras.losses.CategoricalCrossentropy(),\n",
    "  metrics=['accuracy'],\n",
    ") "
   ]
  },
  {
   "cell_type": "markdown",
   "id": "ea82a310",
   "metadata": {},
   "source": [
    "#### model layers - .summary()"
   ]
  },
  {
   "cell_type": "code",
   "execution_count": 16,
   "id": "87c0b654",
   "metadata": {},
   "outputs": [
    {
     "name": "stdout",
     "output_type": "stream",
     "text": [
      "Model: \"model_one\"\n",
      "_________________________________________________________________\n",
      " Layer (type)                Output Shape              Param #   \n",
      "=================================================================\n",
      " dense (Dense)               (None, 128)               100480    \n",
      "                                                                 \n",
      " dense_1 (Dense)             (None, 110)               14190     \n",
      "                                                                 \n",
      " dense_2 (Dense)             (None, 100)               11100     \n",
      "                                                                 \n",
      " dense_3 (Dense)             (None, 10)                1010      \n",
      "                                                                 \n",
      "=================================================================\n",
      "Total params: 126,780\n",
      "Trainable params: 126,780\n",
      "Non-trainable params: 0\n",
      "_________________________________________________________________\n"
     ]
    }
   ],
   "source": [
    "model_1.summary()"
   ]
  },
  {
   "cell_type": "markdown",
   "id": "339b98d0",
   "metadata": {},
   "source": [
    "    how to calculate number of parameters: \n",
    "    (layer input size + 1) * number of neurons in layer\n",
    "    (784 + 1) * 128 = 100480\n",
    "    (128 + 1) * 110 = 14190\n",
    "    ..."
   ]
  },
  {
   "cell_type": "markdown",
   "id": "129e62ba",
   "metadata": {},
   "source": [
    "### way #2"
   ]
  },
  {
   "cell_type": "code",
   "execution_count": 17,
   "id": "41484faa",
   "metadata": {},
   "outputs": [],
   "source": [
    "model_2 = Sequential([\n",
    "    Dense(128, activation='tanh', input_shape=(784,)),\n",
    "    Dense(110, activation='tanh'),\n",
    "    Dense(100, activation='tanh'),\n",
    "    Dense(10, activation='softmax'),\n",
    "], name='model_two')\n",
    "\n",
    "model_2.compile(\n",
    "    optimizer='adam',\n",
    "    loss='categorical_crossentropy',\n",
    "    metrics=['accuracy'],\n",
    ")"
   ]
  },
  {
   "cell_type": "code",
   "execution_count": 18,
   "id": "2da39b5b",
   "metadata": {},
   "outputs": [
    {
     "name": "stdout",
     "output_type": "stream",
     "text": [
      "Model: \"model_two\"\n",
      "_________________________________________________________________\n",
      " Layer (type)                Output Shape              Param #   \n",
      "=================================================================\n",
      " dense_4 (Dense)             (None, 128)               100480    \n",
      "                                                                 \n",
      " dense_5 (Dense)             (None, 110)               14190     \n",
      "                                                                 \n",
      " dense_6 (Dense)             (None, 100)               11100     \n",
      "                                                                 \n",
      " dense_7 (Dense)             (None, 10)                1010      \n",
      "                                                                 \n",
      "=================================================================\n",
      "Total params: 126,780\n",
      "Trainable params: 126,780\n",
      "Non-trainable params: 0\n",
      "_________________________________________________________________\n"
     ]
    }
   ],
   "source": [
    "model_2.summary()"
   ]
  },
  {
   "cell_type": "markdown",
   "id": "64844020",
   "metadata": {},
   "source": [
    "#### model configuration - .get_config()"
   ]
  },
  {
   "cell_type": "code",
   "execution_count": 19,
   "id": "aa4886ad",
   "metadata": {},
   "outputs": [
    {
     "data": {
      "text/plain": [
       "{'name': 'model_two',\n",
       " 'layers': [{'class_name': 'InputLayer',\n",
       "   'config': {'batch_input_shape': (None, 784),\n",
       "    'dtype': 'float32',\n",
       "    'sparse': False,\n",
       "    'ragged': False,\n",
       "    'name': 'dense_4_input'}},\n",
       "  {'class_name': 'Dense',\n",
       "   'config': {'name': 'dense_4',\n",
       "    'trainable': True,\n",
       "    'dtype': 'float32',\n",
       "    'batch_input_shape': (None, 784),\n",
       "    'units': 128,\n",
       "    'activation': 'tanh',\n",
       "    'use_bias': True,\n",
       "    'kernel_initializer': {'class_name': 'GlorotUniform',\n",
       "     'config': {'seed': None}},\n",
       "    'bias_initializer': {'class_name': 'Zeros', 'config': {}},\n",
       "    'kernel_regularizer': None,\n",
       "    'bias_regularizer': None,\n",
       "    'activity_regularizer': None,\n",
       "    'kernel_constraint': None,\n",
       "    'bias_constraint': None}},\n",
       "  {'class_name': 'Dense',\n",
       "   'config': {'name': 'dense_5',\n",
       "    'trainable': True,\n",
       "    'dtype': 'float32',\n",
       "    'units': 110,\n",
       "    'activation': 'tanh',\n",
       "    'use_bias': True,\n",
       "    'kernel_initializer': {'class_name': 'GlorotUniform',\n",
       "     'config': {'seed': None}},\n",
       "    'bias_initializer': {'class_name': 'Zeros', 'config': {}},\n",
       "    'kernel_regularizer': None,\n",
       "    'bias_regularizer': None,\n",
       "    'activity_regularizer': None,\n",
       "    'kernel_constraint': None,\n",
       "    'bias_constraint': None}},\n",
       "  {'class_name': 'Dense',\n",
       "   'config': {'name': 'dense_6',\n",
       "    'trainable': True,\n",
       "    'dtype': 'float32',\n",
       "    'units': 100,\n",
       "    'activation': 'tanh',\n",
       "    'use_bias': True,\n",
       "    'kernel_initializer': {'class_name': 'GlorotUniform',\n",
       "     'config': {'seed': None}},\n",
       "    'bias_initializer': {'class_name': 'Zeros', 'config': {}},\n",
       "    'kernel_regularizer': None,\n",
       "    'bias_regularizer': None,\n",
       "    'activity_regularizer': None,\n",
       "    'kernel_constraint': None,\n",
       "    'bias_constraint': None}},\n",
       "  {'class_name': 'Dense',\n",
       "   'config': {'name': 'dense_7',\n",
       "    'trainable': True,\n",
       "    'dtype': 'float32',\n",
       "    'units': 10,\n",
       "    'activation': 'softmax',\n",
       "    'use_bias': True,\n",
       "    'kernel_initializer': {'class_name': 'GlorotUniform',\n",
       "     'config': {'seed': None}},\n",
       "    'bias_initializer': {'class_name': 'Zeros', 'config': {}},\n",
       "    'kernel_regularizer': None,\n",
       "    'bias_regularizer': None,\n",
       "    'activity_regularizer': None,\n",
       "    'kernel_constraint': None,\n",
       "    'bias_constraint': None}}]}"
      ]
     },
     "execution_count": 19,
     "metadata": {},
     "output_type": "execute_result"
    }
   ],
   "source": [
    "model_2.get_config()"
   ]
  },
  {
   "cell_type": "markdown",
   "id": "bd8a5147",
   "metadata": {},
   "source": [
    "## OHE of labels"
   ]
  },
  {
   "cell_type": "code",
   "execution_count": 20,
   "id": "4a943056",
   "metadata": {},
   "outputs": [],
   "source": [
    "# from tensorflow.keras.utils import to_categorical\n",
    "from keras.utils import to_categorical"
   ]
  },
  {
   "cell_type": "code",
   "execution_count": 21,
   "id": "b1b44111",
   "metadata": {},
   "outputs": [
    {
     "data": {
      "text/plain": [
       "array([5, 0, 4, 1, 9], dtype=uint8)"
      ]
     },
     "execution_count": 21,
     "metadata": {},
     "output_type": "execute_result"
    }
   ],
   "source": [
    "train_labels[:5]"
   ]
  },
  {
   "cell_type": "code",
   "execution_count": 22,
   "id": "8f934144",
   "metadata": {},
   "outputs": [],
   "source": [
    "y_train = to_categorical(train_labels)\n",
    "y_test = to_categorical(test_labels)"
   ]
  },
  {
   "cell_type": "code",
   "execution_count": 23,
   "id": "ef702927",
   "metadata": {},
   "outputs": [
    {
     "data": {
      "text/plain": [
       "array([[0., 0., 0., 0., 0., 1., 0., 0., 0., 0.],\n",
       "       [1., 0., 0., 0., 0., 0., 0., 0., 0., 0.],\n",
       "       [0., 0., 0., 0., 1., 0., 0., 0., 0., 0.],\n",
       "       [0., 1., 0., 0., 0., 0., 0., 0., 0., 0.],\n",
       "       [0., 0., 0., 0., 0., 0., 0., 0., 0., 1.]], dtype=float32)"
      ]
     },
     "execution_count": 23,
     "metadata": {},
     "output_type": "execute_result"
    }
   ],
   "source": [
    "y_train[:5]"
   ]
  },
  {
   "cell_type": "markdown",
   "id": "ab88cf97",
   "metadata": {},
   "source": [
    "#### let's predict labels using our non-trained model - it is possible"
   ]
  },
  {
   "cell_type": "code",
   "execution_count": 24,
   "id": "baf83acb",
   "metadata": {},
   "outputs": [
    {
     "name": "stdout",
     "output_type": "stream",
     "text": [
      "1/1 [==============================] - 0s 317ms/step\n"
     ]
    }
   ],
   "source": [
    "y_pred = model_1.predict(test_images[:5])"
   ]
  },
  {
   "cell_type": "code",
   "execution_count": 25,
   "id": "f40959b6",
   "metadata": {},
   "outputs": [
    {
     "data": {
      "text/plain": [
       "array([[0.08235653, 0.02811177, 0.11910478, 0.16079961, 0.09782239,\n",
       "        0.13049181, 0.08642994, 0.07663834, 0.07890969, 0.13933517],\n",
       "       [0.06431501, 0.04288996, 0.12660946, 0.25663617, 0.12929383,\n",
       "        0.07237455, 0.08721136, 0.05954098, 0.0330205 , 0.1281082 ],\n",
       "       [0.09875389, 0.04101251, 0.12932372, 0.05352023, 0.1459273 ,\n",
       "        0.10196374, 0.13054425, 0.10539076, 0.0910977 , 0.10246591],\n",
       "       [0.08541702, 0.03331325, 0.09930121, 0.05969624, 0.09861479,\n",
       "        0.11644082, 0.15044117, 0.13539244, 0.08897039, 0.13241269],\n",
       "       [0.109467  , 0.0212643 , 0.08759438, 0.14942718, 0.1481214 ,\n",
       "        0.15928964, 0.08523762, 0.09559518, 0.05874484, 0.08525855]],\n",
       "      dtype=float32)"
      ]
     },
     "execution_count": 25,
     "metadata": {},
     "output_type": "execute_result"
    }
   ],
   "source": [
    "y_pred[:5]"
   ]
  },
  {
   "cell_type": "code",
   "execution_count": 26,
   "id": "1f268680",
   "metadata": {},
   "outputs": [
    {
     "name": "stdout",
     "output_type": "stream",
     "text": [
      "[3 3 4 6 5]\n"
     ]
    }
   ],
   "source": [
    "y_class = np.argmax(y_pred, axis=1)\n",
    "print(y_class)"
   ]
  },
  {
   "cell_type": "markdown",
   "id": "730033e3",
   "metadata": {},
   "source": [
    "## training cycle"
   ]
  },
  {
   "cell_type": "markdown",
   "id": "211d3960",
   "metadata": {},
   "source": [
    "#### model_1"
   ]
  },
  {
   "cell_type": "code",
   "execution_count": 27,
   "id": "e93eeaad",
   "metadata": {},
   "outputs": [
    {
     "name": "stdout",
     "output_type": "stream",
     "text": [
      "Epoch 1/2\n",
      "1500/1500 [==============================] - 4s 2ms/step - loss: 0.3113 - accuracy: 0.9047 - val_loss: 0.1842 - val_accuracy: 0.9441\n",
      "Epoch 2/2\n",
      "1500/1500 [==============================] - 3s 2ms/step - loss: 0.1644 - accuracy: 0.9493 - val_loss: 0.1573 - val_accuracy: 0.9523\n"
     ]
    },
    {
     "data": {
      "text/plain": [
       "<keras.callbacks.History at 0x1ee1e748d60>"
      ]
     },
     "execution_count": 27,
     "metadata": {},
     "output_type": "execute_result"
    }
   ],
   "source": [
    "# train the model\n",
    "model_1.fit(    \n",
    "#     train_images[:,:],\n",
    "#     y_train[:,:],\n",
    "    train_images,\n",
    "    y_train,\n",
    "    epochs=2,  # number of times the whole training dataset is passed through the model\n",
    "    batch_size=32,  # number of objects (images in our case) fed to the model in one iteration\n",
    "    validation_split=0.2  # share of training dataset to be used for validation\n",
    ")"
   ]
  },
  {
   "cell_type": "code",
   "execution_count": 28,
   "id": "2b42fa5c",
   "metadata": {},
   "outputs": [
    {
     "name": "stdout",
     "output_type": "stream",
     "text": [
      "313/313 [==============================] - 0s 1ms/step - loss: 0.1597 - accuracy: 0.9504\n"
     ]
    },
    {
     "data": {
      "text/plain": [
       "[0.15966957807540894, 0.9503999948501587]"
      ]
     },
     "execution_count": 28,
     "metadata": {},
     "output_type": "execute_result"
    }
   ],
   "source": [
    "# evaluate the model\n",
    "model_1.evaluate(\n",
    "    test_images,\n",
    "    y_test\n",
    ")"
   ]
  },
  {
   "cell_type": "code",
   "execution_count": 29,
   "id": "a344d537",
   "metadata": {},
   "outputs": [
    {
     "name": "stdout",
     "output_type": "stream",
     "text": [
      "1/1 [==============================] - 0s 15ms/step\n",
      "\n",
      "predictions:\t [7 2 1 0 4]\n",
      "actual labels:\t [7 2 1 0 4]\n"
     ]
    }
   ],
   "source": [
    "# predict on the first 5 test images\n",
    "predictions = model_1.predict(test_images[:5])\n",
    "\n",
    "# print our model's predictions\n",
    "print('\\npredictions:\\t', np.argmax(predictions, axis=1))\n",
    "\n",
    "# check our predictions against the ground truths.\n",
    "print('actual labels:\\t', test_labels[:5])"
   ]
  },
  {
   "cell_type": "markdown",
   "id": "2cea8ea7",
   "metadata": {},
   "source": [
    "#### NB! we may continue to train model_1 from the place the training stopped last time; parameters of .fit() (epochs, batch_size, validation_split) can be changed!!!"
   ]
  },
  {
   "cell_type": "code",
   "execution_count": 30,
   "id": "c4bbfcec",
   "metadata": {},
   "outputs": [
    {
     "name": "stdout",
     "output_type": "stream",
     "text": [
      "Epoch 1/15\n",
      "42/42 [==============================] - 1s 12ms/step - loss: 0.1006 - accuracy: 0.9696 - val_loss: 0.1011 - val_accuracy: 0.9699\n",
      "Epoch 2/15\n",
      "42/42 [==============================] - 0s 9ms/step - loss: 0.0756 - accuracy: 0.9772 - val_loss: 0.0954 - val_accuracy: 0.9714\n",
      "Epoch 3/15\n",
      "42/42 [==============================] - 0s 9ms/step - loss: 0.0741 - accuracy: 0.9775 - val_loss: 0.0937 - val_accuracy: 0.9719\n",
      "Epoch 4/15\n",
      "42/42 [==============================] - 0s 9ms/step - loss: 0.0674 - accuracy: 0.9798 - val_loss: 0.0915 - val_accuracy: 0.9722\n",
      "Epoch 5/15\n",
      "42/42 [==============================] - 0s 9ms/step - loss: 0.0643 - accuracy: 0.9806 - val_loss: 0.0903 - val_accuracy: 0.9729\n",
      "Epoch 6/15\n",
      "42/42 [==============================] - 0s 9ms/step - loss: 0.0622 - accuracy: 0.9815 - val_loss: 0.0890 - val_accuracy: 0.9730\n",
      "Epoch 7/15\n",
      "42/42 [==============================] - 0s 9ms/step - loss: 0.0593 - accuracy: 0.9822 - val_loss: 0.0882 - val_accuracy: 0.9731\n",
      "Epoch 8/15\n",
      "42/42 [==============================] - 0s 9ms/step - loss: 0.0574 - accuracy: 0.9829 - val_loss: 0.0878 - val_accuracy: 0.9737\n",
      "Epoch 9/15\n",
      "42/42 [==============================] - 0s 9ms/step - loss: 0.0556 - accuracy: 0.9839 - val_loss: 0.0879 - val_accuracy: 0.9743\n",
      "Epoch 10/15\n",
      "42/42 [==============================] - 0s 9ms/step - loss: 0.0539 - accuracy: 0.9842 - val_loss: 0.0861 - val_accuracy: 0.9744\n",
      "Epoch 11/15\n",
      "42/42 [==============================] - 0s 9ms/step - loss: 0.0523 - accuracy: 0.9848 - val_loss: 0.0870 - val_accuracy: 0.9737\n",
      "Epoch 12/15\n",
      "42/42 [==============================] - 0s 9ms/step - loss: 0.0533 - accuracy: 0.9850 - val_loss: 0.0866 - val_accuracy: 0.9742\n",
      "Epoch 13/15\n",
      "42/42 [==============================] - 0s 9ms/step - loss: 0.0562 - accuracy: 0.9830 - val_loss: 0.0869 - val_accuracy: 0.9741\n",
      "Epoch 14/15\n",
      "42/42 [==============================] - 0s 9ms/step - loss: 0.0483 - accuracy: 0.9860 - val_loss: 0.0842 - val_accuracy: 0.9750\n",
      "Epoch 15/15\n",
      "42/42 [==============================] - 0s 9ms/step - loss: 0.0465 - accuracy: 0.9871 - val_loss: 0.0849 - val_accuracy: 0.9748\n"
     ]
    },
    {
     "data": {
      "text/plain": [
       "<keras.callbacks.History at 0x1ee1ebafa60>"
      ]
     },
     "execution_count": 30,
     "metadata": {},
     "output_type": "execute_result"
    }
   ],
   "source": [
    "model_1.fit(\n",
    "    train_images,\n",
    "    y_train,\n",
    "    epochs=15,\n",
    "    batch_size=1024, \n",
    "    validation_split=0.3\n",
    ")"
   ]
  },
  {
   "cell_type": "markdown",
   "id": "335b2dbf",
   "metadata": {},
   "source": [
    "#### model_2"
   ]
  },
  {
   "cell_type": "code",
   "execution_count": 31,
   "id": "d111d2cd",
   "metadata": {},
   "outputs": [
    {
     "name": "stdout",
     "output_type": "stream",
     "text": [
      "Epoch 1/15\n",
      "47/47 [==============================] - 1s 12ms/step - loss: 0.8492 - accuracy: 0.7609 - val_loss: 0.3423 - val_accuracy: 0.9025\n",
      "Epoch 2/15\n",
      "47/47 [==============================] - 0s 9ms/step - loss: 0.3031 - accuracy: 0.9102 - val_loss: 0.2436 - val_accuracy: 0.9305\n",
      "Epoch 3/15\n",
      "47/47 [==============================] - 0s 9ms/step - loss: 0.2300 - accuracy: 0.9323 - val_loss: 0.1983 - val_accuracy: 0.9441\n",
      "Epoch 4/15\n",
      "47/47 [==============================] - 0s 10ms/step - loss: 0.1842 - accuracy: 0.9456 - val_loss: 0.1823 - val_accuracy: 0.9460\n",
      "Epoch 5/15\n",
      "47/47 [==============================] - 0s 9ms/step - loss: 0.1550 - accuracy: 0.9539 - val_loss: 0.1532 - val_accuracy: 0.9564\n",
      "Epoch 6/15\n",
      "47/47 [==============================] - 0s 9ms/step - loss: 0.1302 - accuracy: 0.9621 - val_loss: 0.1396 - val_accuracy: 0.9605\n",
      "Epoch 7/15\n",
      "47/47 [==============================] - 0s 9ms/step - loss: 0.1097 - accuracy: 0.9679 - val_loss: 0.1261 - val_accuracy: 0.9639\n",
      "Epoch 8/15\n",
      "47/47 [==============================] - 0s 10ms/step - loss: 0.0957 - accuracy: 0.9721 - val_loss: 0.1198 - val_accuracy: 0.9636\n",
      "Epoch 9/15\n",
      "47/47 [==============================] - 0s 10ms/step - loss: 0.0842 - accuracy: 0.9759 - val_loss: 0.1083 - val_accuracy: 0.9676\n",
      "Epoch 10/15\n",
      "47/47 [==============================] - 0s 10ms/step - loss: 0.0715 - accuracy: 0.9803 - val_loss: 0.1070 - val_accuracy: 0.9683\n",
      "Epoch 11/15\n",
      "47/47 [==============================] - 0s 11ms/step - loss: 0.0655 - accuracy: 0.9812 - val_loss: 0.1046 - val_accuracy: 0.9686\n",
      "Epoch 12/15\n",
      "47/47 [==============================] - 0s 10ms/step - loss: 0.0580 - accuracy: 0.9833 - val_loss: 0.0978 - val_accuracy: 0.9713\n",
      "Epoch 13/15\n",
      "47/47 [==============================] - 0s 10ms/step - loss: 0.0481 - accuracy: 0.9868 - val_loss: 0.0950 - val_accuracy: 0.9718\n",
      "Epoch 14/15\n",
      "47/47 [==============================] - 1s 11ms/step - loss: 0.0438 - accuracy: 0.9878 - val_loss: 0.0972 - val_accuracy: 0.9693\n",
      "Epoch 15/15\n",
      "47/47 [==============================] - 0s 10ms/step - loss: 0.0444 - accuracy: 0.9869 - val_loss: 0.0911 - val_accuracy: 0.9723\n"
     ]
    }
   ],
   "source": [
    "model_2_metrics_and_losses = model_2.fit(  # metrics and losses for each epoch are to be saved in 'm2' variable\n",
    "    train_images,\n",
    "    y_train,\n",
    "    epochs=15,\n",
    "    batch_size=1024, \n",
    "    validation_split=0.2\n",
    ")"
   ]
  },
  {
   "cell_type": "code",
   "execution_count": 32,
   "id": "b824b2a2",
   "metadata": {},
   "outputs": [
    {
     "name": "stdout",
     "output_type": "stream",
     "text": [
      "313/313 [==============================] - 0s 1ms/step - loss: 0.0900 - accuracy: 0.9718\n"
     ]
    },
    {
     "data": {
      "text/plain": [
       "[0.09003838896751404, 0.9718000292778015]"
      ]
     },
     "execution_count": 32,
     "metadata": {},
     "output_type": "execute_result"
    }
   ],
   "source": [
    "# evaluate the model\n",
    "model_2.evaluate( \n",
    "    test_images,\n",
    "    y_test\n",
    ")"
   ]
  },
  {
   "cell_type": "code",
   "execution_count": 33,
   "id": "bf6c3e3c",
   "metadata": {},
   "outputs": [
    {
     "name": "stdout",
     "output_type": "stream",
     "text": [
      "1/1 [==============================] - 0s 63ms/step\n",
      "\n",
      "predictions:\t [7 2 1 0 4]\n",
      "actual labels:\t [7 2 1 0 4]\n"
     ]
    }
   ],
   "source": [
    "# predict on the first 5 test images\n",
    "predictions = model_2.predict(test_images[:5])\n",
    "\n",
    "# print our model's predictions\n",
    "print('\\npredictions:\\t', np.argmax(predictions, axis=1))\n",
    "\n",
    "# check our predictions against the ground truths.\n",
    "print('actual labels:\\t', test_labels[:5])"
   ]
  },
  {
   "cell_type": "markdown",
   "id": "92e795d3",
   "metadata": {},
   "source": [
    "#### let's print metrics and losses for each epoch - .history"
   ]
  },
  {
   "cell_type": "code",
   "execution_count": 34,
   "id": "d6041927",
   "metadata": {},
   "outputs": [
    {
     "data": {
      "text/plain": [
       "{'loss': [0.8492423295974731,\n",
       "  0.30314409732818604,\n",
       "  0.2299642711877823,\n",
       "  0.18424052000045776,\n",
       "  0.15499377250671387,\n",
       "  0.13020355999469757,\n",
       "  0.10971392691135406,\n",
       "  0.09566406905651093,\n",
       "  0.0841713696718216,\n",
       "  0.07146935164928436,\n",
       "  0.06548616290092468,\n",
       "  0.05799650028347969,\n",
       "  0.04811204597353935,\n",
       "  0.04376370087265968,\n",
       "  0.04440248757600784],\n",
       " 'accuracy': [0.7608749866485596,\n",
       "  0.9102083444595337,\n",
       "  0.9322500228881836,\n",
       "  0.945645809173584,\n",
       "  0.9539166688919067,\n",
       "  0.9620624780654907,\n",
       "  0.9679375290870667,\n",
       "  0.9720625281333923,\n",
       "  0.9759374856948853,\n",
       "  0.9802708625793457,\n",
       "  0.981166660785675,\n",
       "  0.9832708239555359,\n",
       "  0.9868124723434448,\n",
       "  0.9877708554267883,\n",
       "  0.9869166612625122],\n",
       " 'val_loss': [0.34232059121131897,\n",
       "  0.2435722053050995,\n",
       "  0.19834455847740173,\n",
       "  0.18233519792556763,\n",
       "  0.15315492451190948,\n",
       "  0.13958103954792023,\n",
       "  0.1261255443096161,\n",
       "  0.11975874751806259,\n",
       "  0.10832636803388596,\n",
       "  0.10701281577348709,\n",
       "  0.10460726916790009,\n",
       "  0.0977749451994896,\n",
       "  0.09495628625154495,\n",
       "  0.0971779078245163,\n",
       "  0.09106627106666565],\n",
       " 'val_accuracy': [0.9024999737739563,\n",
       "  0.9304999709129333,\n",
       "  0.9440833330154419,\n",
       "  0.9459999799728394,\n",
       "  0.956416666507721,\n",
       "  0.9605000019073486,\n",
       "  0.9639166593551636,\n",
       "  0.9635833501815796,\n",
       "  0.9675833582878113,\n",
       "  0.9683333039283752,\n",
       "  0.968583345413208,\n",
       "  0.9713333249092102,\n",
       "  0.971833348274231,\n",
       "  0.9692500233650208,\n",
       "  0.9723333120346069]}"
      ]
     },
     "execution_count": 34,
     "metadata": {},
     "output_type": "execute_result"
    }
   ],
   "source": [
    "model_2_metrics_and_losses.history"
   ]
  },
  {
   "cell_type": "markdown",
   "id": "aa13701b",
   "metadata": {},
   "source": [
    "## learning curve"
   ]
  },
  {
   "cell_type": "code",
   "execution_count": 35,
   "id": "b38571a0",
   "metadata": {},
   "outputs": [
    {
     "data": {
      "image/png": "[encoded data removed]",
      "text/plain": [
       "<Figure size 1500x700 with 1 Axes>"
      ]
     },
     "metadata": {},
     "output_type": "display_data"
    }
   ],
   "source": [
    "plt.figure(figsize=(15,7))\n",
    "plt.plot(model_2_metrics_and_losses.history['loss'], label = 'loss for training')\n",
    "plt.plot(model_2_metrics_and_losses.history['val_loss'], label = 'loss for validation')\n",
    "plt.xlabel('epoch')\n",
    "plt.ylabel('loss')\n",
    "plt.legend()\n",
    "plt.grid('On')\n",
    "plt.title('loss and epochs')\n",
    "plt.show()"
   ]
  },
  {
   "cell_type": "markdown",
   "id": "a24dbb86",
   "metadata": {},
   "source": [
    "## saving and loading model weights"
   ]
  },
  {
   "cell_type": "code",
   "execution_count": 36,
   "id": "7bc9fac0",
   "metadata": {},
   "outputs": [],
   "source": [
    "# saving model weights\n",
    "# model_2.save_weights('model_2.h5')\n",
    "\n",
    "# loading model weights\n",
    "# model_2.load_weights('model_2.h5')"
   ]
  },
  {
   "cell_type": "markdown",
   "id": "f0996576",
   "metadata": {},
   "source": [
    "## testing different optimizers"
   ]
  },
  {
   "cell_type": "markdown",
   "id": "18d0d8c3",
   "metadata": {},
   "source": [
    "Эксперимент с разными оптимизаторами для одной начальной модели:\n",
    "\n",
    "  - создаем модель model\n",
    "  - сохраняем ее веса (это начальная точка) model.save_weights('model.h5')\n",
    "  - создаем рабочую модель modeli куда будем загружать эти вес (она должна быть идентичной структуры) \n",
    "  - загружаем веса modeli.load_weights('model.h5')\n",
    "  - компилируем modeli с одним из оптимизаторов\n",
    "  - вычисляем ошибку для modeli без обучения (т.к. все модели начинают с одной точки, то все ошибки должны быть одинаковые, но будем контролировать это и считаем каждый раз заново)\n",
    "  - проводим обучение модели и пишем ошибки в истории hh\n",
    "  - выводим ошибки для 0-го момента и каждой эпохи обучения по тестовой и валидационной частям данных\n",
    "\n",
    "\n",
    "\n",
    "Оптимизаторы:\n",
    "* SGD() (с или без моментум)\n",
    "* RMSprop()\n",
    "* Adam()\n",
    "* Adagrad()\n",
    "…"
   ]
  },
  {
   "cell_type": "code",
   "execution_count": 37,
   "id": "2273fbfe",
   "metadata": {},
   "outputs": [
    {
     "data": {
      "image/png": "[encoded data removed]",
      "text/plain": [
       "<Figure size 1600x700 with 1 Axes>"
      ]
     },
     "metadata": {},
     "output_type": "display_data"
    }
   ],
   "source": [
    "# basis model creation\n",
    "model = Sequential([\n",
    "    Dense(64, activation='relu', input_shape=(784,)),\n",
    "    Dense(64, activation='tanh'),\n",
    "    Dense(10, activation='softmax')\n",
    "])\n",
    "\n",
    "# saving weights of the model\n",
    "# the model is not fitted/trained!!!\n",
    "model.save_weights('model.h5')\n",
    "\n",
    "plt.figure(figsize=(16,7))\n",
    "\n",
    "# setting epochs\n",
    "epochs = 15\n",
    "# vector for plotting results\n",
    "epochs_vector = np.arange(epochs+1)\n",
    "\n",
    "# trying different optimizers\n",
    "for optimizer_ in ['SGD', 'RMSProp', 'adam', 'NAdam']:\n",
    "    # creation of a working model 'model_' where we will load weights saved before\n",
    "    model_ = Sequential([\n",
    "        Dense(64, activation='relu', input_shape=(784,)),\n",
    "        Dense(64, activation='tanh'),\n",
    "        Dense(10, activation='softmax')\n",
    "    ])\n",
    "    \n",
    "    # loading weights\n",
    "    model_.load_weights('model.h5')\n",
    "    \n",
    "    # compiling model_ with an optimizer\n",
    "    model_.compile(\n",
    "        optimizer=optimizer_,\n",
    "        loss='categorical_crossentropy',\n",
    "        metrics=['accuracy']\n",
    "    )\n",
    "    \n",
    "    # computing loss before fitting/training\n",
    "    loss_train_0 = model_.evaluate(train_images[:48000], to_categorical(train_labels[:48000]), verbose=0)[0]\n",
    "    loss_valid_0 = model_.evaluate(train_images[48000:], to_categorical(train_labels[48000:]), verbose=0)[0]\n",
    "    \n",
    "    # model_ fitting/training\n",
    "    metrics_and_losses = model_.fit(  # metrics_and_losses is model's callback\n",
    "        train_images,\n",
    "        to_categorical(train_labels),\n",
    "        epochs=epochs,\n",
    "        batch_size=1024, validation_split=0.2, verbose = 0\n",
    "    )\n",
    "    \n",
    "    # plot\n",
    "    plt.plot(epochs_vector, \n",
    "             np.log([loss_train_0]+metrics_and_losses.history['loss']),\n",
    "             '-',\n",
    "             label=model_.optimizer.get_config()['name']+' train')\n",
    "    plt.plot(epochs_vector, \n",
    "             np.log([loss_valid_0]+metrics_and_losses.history['val_loss']),\n",
    "             '--',\n",
    "             label=model_.optimizer.get_config()['name']+' val')\n",
    "    \n",
    "plt.legend()\n",
    "plt.grid('On')\n",
    "\n",
    "plt.title('loss change with different optimizers')\n",
    "plt.xlabel('epoch')\n",
    "plt.ylabel('log(loss)')\n",
    "plt.show()"
   ]
  },
  {
   "cell_type": "code",
   "execution_count": 38,
   "id": "7cdbd9aa",
   "metadata": {},
   "outputs": [
    {
     "data": {
      "text/plain": [
       "{'name': 'Nadam',\n",
       " 'weight_decay': None,\n",
       " 'clipnorm': None,\n",
       " 'global_clipnorm': None,\n",
       " 'clipvalue': None,\n",
       " 'use_ema': False,\n",
       " 'ema_momentum': 0.99,\n",
       " 'ema_overwrite_frequency': None,\n",
       " 'jit_compile': False,\n",
       " 'is_legacy_optimizer': False,\n",
       " 'learning_rate': 0.001,\n",
       " 'beta_1': 0.9,\n",
       " 'beta_2': 0.999,\n",
       " 'epsilon': 1e-07}"
      ]
     },
     "execution_count": 38,
     "metadata": {},
     "output_type": "execute_result"
    }
   ],
   "source": [
    "model_.optimizer.get_config()"
   ]
  },
  {
   "cell_type": "markdown",
   "id": "a7644894",
   "metadata": {},
   "source": [
    "## predictions (with the last model in the cycle above)"
   ]
  },
  {
   "cell_type": "code",
   "execution_count": 39,
   "id": "4f5aa6b5",
   "metadata": {},
   "outputs": [
    {
     "name": "stdout",
     "output_type": "stream",
     "text": [
      "1/1 [==============================] - 0s 45ms/step\n"
     ]
    },
    {
     "data": {
      "image/png": "[encoded data removed]",
      "text/plain": [
       "<Figure size 2100x500 with 7 Axes>"
      ]
     },
     "metadata": {},
     "output_type": "display_data"
    }
   ],
   "source": [
    "n = 7\n",
    "y_pred = model_.predict(test_images[:n])\n",
    "y_pred_class = np.argmax(y_pred, axis=1)\n",
    "plt.figure(figsize =(3*n, 5))\n",
    "for i in range(n):\n",
    "    plt.subplot(1, n, i+1)\n",
    "    plt.imshow(test_images[i, :].reshape(28, 28))\n",
    "    plt.xlabel(str(y_pred_class[i]))\n",
    "plt.show()"
   ]
  },
  {
   "cell_type": "code",
   "execution_count": 40,
   "id": "e31297aa",
   "metadata": {},
   "outputs": [
    {
     "data": {
      "text/plain": [
       "((7, 10),\n",
       " array([1.07260035e-04, 2.63274760e-05, 1.35847877e-04, 2.49910005e-03,\n",
       "        5.44126260e-06, 4.35709080e-05, 5.05179287e-07, 9.96825099e-01,\n",
       "        3.20173058e-05, 3.24787194e-04], dtype=float32))"
      ]
     },
     "execution_count": 40,
     "metadata": {},
     "output_type": "execute_result"
    }
   ],
   "source": [
    "y_pred.shape, y_pred[0]"
   ]
  },
  {
   "cell_type": "code",
   "execution_count": 41,
   "id": "37091a00",
   "metadata": {},
   "outputs": [
    {
     "data": {
      "text/plain": [
       "array([7, 2, 1, 0, 4, 1, 4], dtype=int64)"
      ]
     },
     "execution_count": 41,
     "metadata": {},
     "output_type": "execute_result"
    }
   ],
   "source": [
    "y_pred_class"
   ]
  },
  {
   "cell_type": "code",
   "execution_count": 42,
   "id": "feb095d4",
   "metadata": {},
   "outputs": [
    {
     "data": {
      "text/plain": [
       "array([7, 2, 1, 0, 4, 1, 4], dtype=uint8)"
      ]
     },
     "execution_count": 42,
     "metadata": {},
     "output_type": "execute_result"
    }
   ],
   "source": [
    "test_labels[:n]"
   ]
  },
  {
   "cell_type": "markdown",
   "id": "b6658c5a",
   "metadata": {},
   "source": [
    "#### syntax variant"
   ]
  },
  {
   "cell_type": "code",
   "execution_count": 43,
   "id": "5a350edb",
   "metadata": {},
   "outputs": [
    {
     "data": {
      "text/plain": [
       "array([7, 2, 1, 0, 4, 1, 4], dtype=int64)"
      ]
     },
     "execution_count": 43,
     "metadata": {},
     "output_type": "execute_result"
    }
   ],
   "source": [
    "y_pred = model_(test_images[:n])  # the same as 'model_.predict(test_images[:n])'\n",
    "np.argmax(y_pred, axis=1)"
   ]
  },
  {
   "cell_type": "markdown",
   "id": "431659b0",
   "metadata": {},
   "source": [
    "## indexes of wrongly predicted objects"
   ]
  },
  {
   "cell_type": "code",
   "execution_count": 44,
   "id": "aece187d",
   "metadata": {},
   "outputs": [
    {
     "data": {
      "text/plain": [
       "array([   8,   61,  124,  149,  233,  247,  259,  321,  352,  412,  445,\n",
       "        447,  478,  495,  507,  528,  531,  582,  610,  619,  659,  684,\n",
       "        689,  691,  707,  717,  720,  740,  760,  844,  924,  938,  947,\n",
       "        951,  965,  982, 1003, 1014, 1032, 1039, 1044, 1062, 1073, 1112,\n",
       "       1182, 1194, 1198, 1224, 1226, 1228, 1232, 1242, 1247, 1260, 1283,\n",
       "       1289, 1299, 1319, 1325, 1326, 1328, 1337, 1364, 1378, 1393, 1413,\n",
       "       1414, 1469, 1494, 1500, 1522, 1530, 1549, 1553, 1609, 1671, 1681,\n",
       "       1709, 1717, 1721, 1751, 1754, 1773, 1790, 1850, 1878, 1880, 1901,\n",
       "       1903, 1913, 1938, 1941, 1952, 1970, 2016, 2018, 2024, 2035, 2040,\n",
       "       2043, 2044, 2053, 2070, 2098, 2109, 2115, 2118, 2121, 2125, 2129,\n",
       "       2130, 2131, 2135, 2182, 2186, 2224, 2272, 2291, 2293, 2369, 2371,\n",
       "       2387, 2395, 2422, 2488, 2526, 2548, 2560, 2607, 2648, 2654, 2730,\n",
       "       2877, 2896, 2907, 2921, 2925, 2927, 2939, 2945, 2953, 2979, 3005,\n",
       "       3060, 3073, 3117, 3130, 3157, 3189, 3206, 3289, 3333, 3376, 3405,\n",
       "       3422, 3475, 3503, 3520, 3533, 3558, 3559, 3567, 3597, 3629, 3662,\n",
       "       3674, 3702, 3718, 3727, 3749, 3751, 3757, 3767, 3776, 3780, 3798,\n",
       "       3811, 3818, 3838, 3846, 3853, 3869, 3893, 3902, 3906, 3941, 3968,\n",
       "       3985, 4017, 4065, 4075, 4078, 4093, 4123, 4140, 4152, 4154, 4163,\n",
       "       4176, 4199, 4201, 4211, 4212, 4224, 4248, 4255, 4271, 4289, 4300,\n",
       "       4306, 4355, 4359, 4369, 4374, 4425, 4433, 4435, 4437, 4497, 4500,\n",
       "       4534, 4536, 4567, 4571, 4575, 4601, 4731, 4761, 4807, 4814, 4823,\n",
       "       4874, 4880, 4886, 4910, 4943, 4956, 4966, 4978, 4990, 5067, 5138,\n",
       "       5183, 5331, 5457, 5495, 5600, 5634, 5642, 5677, 5734, 5749, 5835,\n",
       "       5842, 5887, 5888, 5913, 5922, 5936, 5937, 5955, 5972, 5973, 5982,\n",
       "       5985, 6015, 6023, 6045, 6046, 6059, 6065, 6071, 6081, 6091, 6166,\n",
       "       6172, 6386, 6390, 6400, 6421, 6426, 6505, 6532, 6538, 6555, 6568,\n",
       "       6571, 6572, 6597, 6603, 6632, 6641, 6651, 6765, 6783, 6847, 6926,\n",
       "       7338, 7432, 7434, 7552, 7800, 7823, 7849, 7902, 7915, 7921, 8020,\n",
       "       8062, 8094, 8183, 8272, 8277, 8318, 8339, 8406, 8408, 8520, 8522,\n",
       "       8584, 9009, 9015, 9016, 9019, 9022, 9024, 9036, 9045, 9280, 9316,\n",
       "       9482, 9587, 9634, 9642, 9643, 9662, 9664, 9669, 9679, 9698, 9700,\n",
       "       9716, 9729, 9745, 9749, 9764, 9768, 9770, 9779, 9808, 9839, 9879,\n",
       "       9892, 9904, 9905, 9941, 9944, 9980, 9982], dtype=int64)"
      ]
     },
     "execution_count": 44,
     "metadata": {},
     "output_type": "execute_result"
    }
   ],
   "source": [
    "y_pred = model_(test_images)  # all test images label prediction\n",
    "y_pred = np.argmax(y_pred, axis=1)\n",
    "np.where(test_labels != y_pred)[0]"
   ]
  },
  {
   "cell_type": "code",
   "execution_count": 45,
   "id": "a6d5b2ce",
   "metadata": {},
   "outputs": [
    {
     "data": {
      "text/plain": [
       "(9, 9)"
      ]
     },
     "execution_count": 45,
     "metadata": {},
     "output_type": "execute_result"
    }
   ],
   "source": [
    "y_pred[7], test_labels[7]  # no error"
   ]
  },
  {
   "cell_type": "code",
   "execution_count": 46,
   "id": "1aea8219",
   "metadata": {},
   "outputs": [
    {
     "data": {
      "text/plain": [
       "(2, 5)"
      ]
     },
     "execution_count": 46,
     "metadata": {},
     "output_type": "execute_result"
    }
   ],
   "source": [
    "y_pred[8], test_labels[8]  # error (from the list)"
   ]
  },
  {
   "cell_type": "code",
   "execution_count": null,
   "id": "2d9d2b57",
   "metadata": {},
   "outputs": [],
   "source": []
  },
  {
   "cell_type": "code",
   "execution_count": null,
   "id": "aab7358a",
   "metadata": {},
   "outputs": [],
   "source": []
  },
  {
   "cell_type": "code",
   "execution_count": null,
   "id": "42e7deb0",
   "metadata": {},
   "outputs": [],
   "source": []
  }
 ],
 "metadata": {
  "kernelspec": {
   "display_name": "Python 3 (ipykernel)",
   "language": "python",
   "name": "python3"
  },
  "language_info": {
   "codemirror_mode": {
    "name": "ipython",
    "version": 3
   },
   "file_extension": ".py",
   "mimetype": "text/x-python",
   "name": "python",
   "nbconvert_exporter": "python",
   "pygments_lexer": "ipython3",
   "version": "3.9.15"
  }
 },
 "nbformat": 4,
 "nbformat_minor": 5
}
